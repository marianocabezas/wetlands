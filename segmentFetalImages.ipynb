{
 "cells": [
  {
   "cell_type": "markdown",
   "id": "a4fdb592-0c40-46ff-a925-c05b1754e209",
   "metadata": {},
   "source": [
    "# Notebook to segment fetal images using different methods\n",
    "\n",
    "Class description:\n",
    "\n",
    "    Label: 0 (Background)\n",
    "    Label: 1 (third_sylvian, line)\n",
    "    Label: 2 (third_midline, line)\n",
    "    Label: 3 (third_cavum, area)\n",
    "    Label: 4 (third_cerebellum, area)\n",
    "\n",
    "Channel description:\n",
    "\n",
    "    Channel: 1 (grayscale)"
   ]
  },
  {
   "cell_type": "code",
   "execution_count": 1,
   "id": "7ea2e1d5-1766-4ab5-a591-88f738d3e005",
   "metadata": {},
   "outputs": [],
   "source": [
    "import os\n",
    "import time\n",
    "import warnings\n",
    "from time import strftime\n",
    "from functools import partial\n",
    "\n",
    "from PIL import Image\n",
    "\n",
    "import matplotlib as mpl\n",
    "import matplotlib.pyplot as plt\n",
    "import seaborn as sns\n",
    "\n",
    "import numpy as np\n",
    "from skimage import io as skio\n",
    "from scipy.special import expit, softmax\n",
    "\n",
    "import torch\n",
    "from torch.utils.data import DataLoader\n",
    "import torch.nn.functional as func\n",
    "\n",
    "from datasets import FetalDataset\n",
    "from models import FCN_ResNet50, FCN_ResNet101, LRASPP_MobileNet\n",
    "from models import DeeplabV3_MobileNet, DeeplabV3_ResNet50, Unet2D\n",
    "from utils import color_codes, time_to_string, normalise\n",
    "\n",
    "from pathlib import Path"
   ]
  },
  {
   "cell_type": "markdown",
   "id": "4226d9e4-05f2-453b-ada7-3b2c6345bd08",
   "metadata": {},
   "source": [
    "The imports can be divided into a few different groups:\n",
    "- **General packages**: This group include basic python libraries (included with any distribution of python) to perform basic operations relations to files, measuring execution time or function utilities.\n",
    "- **Image packages**: This dataset uses a specific type of GeoTIFF files (?). To open them we will be using image libraries focused on TIFF files.\n",
    "- **Plotting tools**: matplotlib (and seaborn) is the most commonly useful visualisation tool for plotting results.\n",
    "- **Scientific tools**: This larger group includes numpy (equivalent to matlab array processing), scipy (numpy extension for scientific projects) and sklearn (and its image analysis extension). These packages provide tools to manipulate data.\n",
    "- **Autodifferentiable packages**: For this notebook we will be using pytorch as our tool to build and train deep learning models.\n",
    "- **Tools from the repository**: To simplify our networks, some of the meaty code is stored on a relevant file including dataset implementations, models based on torchvision and other utils.\n",
    "\n",
    "# Reading Data\n",
    "  "
   ]
  },
  {
   "cell_type": "code",
   "execution_count": 2,
   "id": "d77a6643-feee-4f56-b416-41a8a49d4bcb",
   "metadata": {},
   "outputs": [],
   "source": [
    "path = './data/Final_round'\n",
    "\n",
    "lDict = {\"third_sylvian\" : (1,False), \"third_midline\": (2,False), \"third_cavum\": (3,True), \"third_cerebellum\":(4,True)} \n",
    "\n",
    "FRds = FetalDataset(path,lDict)"
   ]
  },
  {
   "cell_type": "code",
   "execution_count": 3,
   "id": "7cbba425-301e-425b-b620-441c2a648602",
   "metadata": {},
   "outputs": [],
   "source": [
    "def visualize_fetal_dataset(dataset, n=3):\n",
    "    \"\"\"\n",
    "    Display `n` samples from a FetalDataset instance.\n",
    "    \n",
    "    Each sample shows:\n",
    "    - The ultrasound image\n",
    "    - The corresponding label mask\n",
    "    \"\"\"\n",
    "    for i in range(min(n, len(dataset))):\n",
    "        us_image, label_mask = dataset[i]\n",
    "\n",
    "        fig, axes = plt.subplots(1, 3, figsize=(10, 5))\n",
    "\n",
    "        axes[0].imshow(us_image, cmap='gray')\n",
    "        axes[0].set_title(\"Ultrasound Image\")\n",
    "        axes[0].axis(\"off\")\n",
    "\n",
    "        axes[1].imshow(label_mask, cmap='tab10', vmin=0)\n",
    "        axes[1].set_title(\"Label Mask\")\n",
    "        axes[1].axis(\"off\")\n",
    "\n",
    "        axes[2].imshow(us_image, cmap='gray')\n",
    "        axes[2].imshow(label_mask, cmap='tab10', vmin=0, alpha = 0.2)\n",
    "        axes[2].set_title(\"overlay\")\n",
    "        axes[2].axis(\"off\")\n",
    "\n",
    "        plt.tight_layout()\n",
    "        plt.show()"
   ]
  },
  {
   "cell_type": "code",
   "execution_count": 4,
   "id": "b421abf6-792d-4034-8936-a9fd7757269e",
   "metadata": {},
   "outputs": [
    {
     "ename": "TypeError",
     "evalue": "Invalid shape (3, 600, 800) for image data",
     "output_type": "error",
     "traceback": [
      "\u001b[0;31m---------------------------------------------------------------------------\u001b[0m",
      "\u001b[0;31mTypeError\u001b[0m                                 Traceback (most recent call last)",
      "Cell \u001b[0;32mIn[4], line 1\u001b[0m\n\u001b[0;32m----> 1\u001b[0m \u001b[43mvisualize_fetal_dataset\u001b[49m\u001b[43m(\u001b[49m\u001b[43mFRds\u001b[49m\u001b[43m)\u001b[49m\n",
      "Cell \u001b[0;32mIn[3], line 14\u001b[0m, in \u001b[0;36mvisualize_fetal_dataset\u001b[0;34m(dataset, n)\u001b[0m\n\u001b[1;32m     10\u001b[0m us_image, label_mask \u001b[38;5;241m=\u001b[39m dataset[i]\n\u001b[1;32m     12\u001b[0m fig, axes \u001b[38;5;241m=\u001b[39m plt\u001b[38;5;241m.\u001b[39msubplots(\u001b[38;5;241m1\u001b[39m, \u001b[38;5;241m3\u001b[39m, figsize\u001b[38;5;241m=\u001b[39m(\u001b[38;5;241m10\u001b[39m, \u001b[38;5;241m5\u001b[39m))\n\u001b[0;32m---> 14\u001b[0m \u001b[43maxes\u001b[49m\u001b[43m[\u001b[49m\u001b[38;5;241;43m0\u001b[39;49m\u001b[43m]\u001b[49m\u001b[38;5;241;43m.\u001b[39;49m\u001b[43mimshow\u001b[49m\u001b[43m(\u001b[49m\u001b[43mus_image\u001b[49m\u001b[43m,\u001b[49m\u001b[43m \u001b[49m\u001b[43mcmap\u001b[49m\u001b[38;5;241;43m=\u001b[39;49m\u001b[38;5;124;43m'\u001b[39;49m\u001b[38;5;124;43mgray\u001b[39;49m\u001b[38;5;124;43m'\u001b[39;49m\u001b[43m)\u001b[49m\n\u001b[1;32m     15\u001b[0m axes[\u001b[38;5;241m0\u001b[39m]\u001b[38;5;241m.\u001b[39mset_title(\u001b[38;5;124m\"\u001b[39m\u001b[38;5;124mUltrasound Image\u001b[39m\u001b[38;5;124m\"\u001b[39m)\n\u001b[1;32m     16\u001b[0m axes[\u001b[38;5;241m0\u001b[39m]\u001b[38;5;241m.\u001b[39maxis(\u001b[38;5;124m\"\u001b[39m\u001b[38;5;124moff\u001b[39m\u001b[38;5;124m\"\u001b[39m)\n",
      "File \u001b[0;32m~/anaconda3/envs/fetal/lib/python3.10/site-packages/matplotlib/__init__.py:1521\u001b[0m, in \u001b[0;36m_preprocess_data.<locals>.inner\u001b[0;34m(ax, data, *args, **kwargs)\u001b[0m\n\u001b[1;32m   1518\u001b[0m \u001b[38;5;129m@functools\u001b[39m\u001b[38;5;241m.\u001b[39mwraps(func)\n\u001b[1;32m   1519\u001b[0m \u001b[38;5;28;01mdef\u001b[39;00m\u001b[38;5;250m \u001b[39m\u001b[38;5;21minner\u001b[39m(ax, \u001b[38;5;241m*\u001b[39margs, data\u001b[38;5;241m=\u001b[39m\u001b[38;5;28;01mNone\u001b[39;00m, \u001b[38;5;241m*\u001b[39m\u001b[38;5;241m*\u001b[39mkwargs):\n\u001b[1;32m   1520\u001b[0m     \u001b[38;5;28;01mif\u001b[39;00m data \u001b[38;5;129;01mis\u001b[39;00m \u001b[38;5;28;01mNone\u001b[39;00m:\n\u001b[0;32m-> 1521\u001b[0m         \u001b[38;5;28;01mreturn\u001b[39;00m \u001b[43mfunc\u001b[49m\u001b[43m(\u001b[49m\n\u001b[1;32m   1522\u001b[0m \u001b[43m            \u001b[49m\u001b[43max\u001b[49m\u001b[43m,\u001b[49m\n\u001b[1;32m   1523\u001b[0m \u001b[43m            \u001b[49m\u001b[38;5;241;43m*\u001b[39;49m\u001b[38;5;28;43mmap\u001b[39;49m\u001b[43m(\u001b[49m\u001b[43mcbook\u001b[49m\u001b[38;5;241;43m.\u001b[39;49m\u001b[43msanitize_sequence\u001b[49m\u001b[43m,\u001b[49m\u001b[43m \u001b[49m\u001b[43margs\u001b[49m\u001b[43m)\u001b[49m\u001b[43m,\u001b[49m\n\u001b[1;32m   1524\u001b[0m \u001b[43m            \u001b[49m\u001b[38;5;241;43m*\u001b[39;49m\u001b[38;5;241;43m*\u001b[39;49m\u001b[43m{\u001b[49m\u001b[43mk\u001b[49m\u001b[43m:\u001b[49m\u001b[43m \u001b[49m\u001b[43mcbook\u001b[49m\u001b[38;5;241;43m.\u001b[39;49m\u001b[43msanitize_sequence\u001b[49m\u001b[43m(\u001b[49m\u001b[43mv\u001b[49m\u001b[43m)\u001b[49m\u001b[43m \u001b[49m\u001b[38;5;28;43;01mfor\u001b[39;49;00m\u001b[43m \u001b[49m\u001b[43mk\u001b[49m\u001b[43m,\u001b[49m\u001b[43m \u001b[49m\u001b[43mv\u001b[49m\u001b[43m \u001b[49m\u001b[38;5;129;43;01min\u001b[39;49;00m\u001b[43m \u001b[49m\u001b[43mkwargs\u001b[49m\u001b[38;5;241;43m.\u001b[39;49m\u001b[43mitems\u001b[49m\u001b[43m(\u001b[49m\u001b[43m)\u001b[49m\u001b[43m}\u001b[49m\u001b[43m)\u001b[49m\n\u001b[1;32m   1526\u001b[0m     bound \u001b[38;5;241m=\u001b[39m new_sig\u001b[38;5;241m.\u001b[39mbind(ax, \u001b[38;5;241m*\u001b[39margs, \u001b[38;5;241m*\u001b[39m\u001b[38;5;241m*\u001b[39mkwargs)\n\u001b[1;32m   1527\u001b[0m     auto_label \u001b[38;5;241m=\u001b[39m (bound\u001b[38;5;241m.\u001b[39marguments\u001b[38;5;241m.\u001b[39mget(label_namer)\n\u001b[1;32m   1528\u001b[0m                   \u001b[38;5;129;01mor\u001b[39;00m bound\u001b[38;5;241m.\u001b[39mkwargs\u001b[38;5;241m.\u001b[39mget(label_namer))\n",
      "File \u001b[0;32m~/anaconda3/envs/fetal/lib/python3.10/site-packages/matplotlib/axes/_axes.py:5979\u001b[0m, in \u001b[0;36mAxes.imshow\u001b[0;34m(self, X, cmap, norm, aspect, interpolation, alpha, vmin, vmax, colorizer, origin, extent, interpolation_stage, filternorm, filterrad, resample, url, **kwargs)\u001b[0m\n\u001b[1;32m   5976\u001b[0m \u001b[38;5;28;01mif\u001b[39;00m aspect \u001b[38;5;129;01mis\u001b[39;00m \u001b[38;5;129;01mnot\u001b[39;00m \u001b[38;5;28;01mNone\u001b[39;00m:\n\u001b[1;32m   5977\u001b[0m     \u001b[38;5;28mself\u001b[39m\u001b[38;5;241m.\u001b[39mset_aspect(aspect)\n\u001b[0;32m-> 5979\u001b[0m \u001b[43mim\u001b[49m\u001b[38;5;241;43m.\u001b[39;49m\u001b[43mset_data\u001b[49m\u001b[43m(\u001b[49m\u001b[43mX\u001b[49m\u001b[43m)\u001b[49m\n\u001b[1;32m   5980\u001b[0m im\u001b[38;5;241m.\u001b[39mset_alpha(alpha)\n\u001b[1;32m   5981\u001b[0m \u001b[38;5;28;01mif\u001b[39;00m im\u001b[38;5;241m.\u001b[39mget_clip_path() \u001b[38;5;129;01mis\u001b[39;00m \u001b[38;5;28;01mNone\u001b[39;00m:\n\u001b[1;32m   5982\u001b[0m     \u001b[38;5;66;03m# image does not already have clipping set, clip to Axes patch\u001b[39;00m\n",
      "File \u001b[0;32m~/anaconda3/envs/fetal/lib/python3.10/site-packages/matplotlib/image.py:685\u001b[0m, in \u001b[0;36m_ImageBase.set_data\u001b[0;34m(self, A)\u001b[0m\n\u001b[1;32m    683\u001b[0m \u001b[38;5;28;01mif\u001b[39;00m \u001b[38;5;28misinstance\u001b[39m(A, PIL\u001b[38;5;241m.\u001b[39mImage\u001b[38;5;241m.\u001b[39mImage):\n\u001b[1;32m    684\u001b[0m     A \u001b[38;5;241m=\u001b[39m pil_to_array(A)  \u001b[38;5;66;03m# Needed e.g. to apply png palette.\u001b[39;00m\n\u001b[0;32m--> 685\u001b[0m \u001b[38;5;28mself\u001b[39m\u001b[38;5;241m.\u001b[39m_A \u001b[38;5;241m=\u001b[39m \u001b[38;5;28;43mself\u001b[39;49m\u001b[38;5;241;43m.\u001b[39;49m\u001b[43m_normalize_image_array\u001b[49m\u001b[43m(\u001b[49m\u001b[43mA\u001b[49m\u001b[43m)\u001b[49m\n\u001b[1;32m    686\u001b[0m \u001b[38;5;28mself\u001b[39m\u001b[38;5;241m.\u001b[39m_imcache \u001b[38;5;241m=\u001b[39m \u001b[38;5;28;01mNone\u001b[39;00m\n\u001b[1;32m    687\u001b[0m \u001b[38;5;28mself\u001b[39m\u001b[38;5;241m.\u001b[39mstale \u001b[38;5;241m=\u001b[39m \u001b[38;5;28;01mTrue\u001b[39;00m\n",
      "File \u001b[0;32m~/anaconda3/envs/fetal/lib/python3.10/site-packages/matplotlib/image.py:653\u001b[0m, in \u001b[0;36m_ImageBase._normalize_image_array\u001b[0;34m(A)\u001b[0m\n\u001b[1;32m    651\u001b[0m     A \u001b[38;5;241m=\u001b[39m A\u001b[38;5;241m.\u001b[39msqueeze(\u001b[38;5;241m-\u001b[39m\u001b[38;5;241m1\u001b[39m)  \u001b[38;5;66;03m# If just (M, N, 1), assume scalar and apply colormap.\u001b[39;00m\n\u001b[1;32m    652\u001b[0m \u001b[38;5;28;01mif\u001b[39;00m \u001b[38;5;129;01mnot\u001b[39;00m (A\u001b[38;5;241m.\u001b[39mndim \u001b[38;5;241m==\u001b[39m \u001b[38;5;241m2\u001b[39m \u001b[38;5;129;01mor\u001b[39;00m A\u001b[38;5;241m.\u001b[39mndim \u001b[38;5;241m==\u001b[39m \u001b[38;5;241m3\u001b[39m \u001b[38;5;129;01mand\u001b[39;00m A\u001b[38;5;241m.\u001b[39mshape[\u001b[38;5;241m-\u001b[39m\u001b[38;5;241m1\u001b[39m] \u001b[38;5;129;01min\u001b[39;00m [\u001b[38;5;241m3\u001b[39m, \u001b[38;5;241m4\u001b[39m]):\n\u001b[0;32m--> 653\u001b[0m     \u001b[38;5;28;01mraise\u001b[39;00m \u001b[38;5;167;01mTypeError\u001b[39;00m(\u001b[38;5;124mf\u001b[39m\u001b[38;5;124m\"\u001b[39m\u001b[38;5;124mInvalid shape \u001b[39m\u001b[38;5;132;01m{\u001b[39;00mA\u001b[38;5;241m.\u001b[39mshape\u001b[38;5;132;01m}\u001b[39;00m\u001b[38;5;124m for image data\u001b[39m\u001b[38;5;124m\"\u001b[39m)\n\u001b[1;32m    654\u001b[0m \u001b[38;5;28;01mif\u001b[39;00m A\u001b[38;5;241m.\u001b[39mndim \u001b[38;5;241m==\u001b[39m \u001b[38;5;241m3\u001b[39m:\n\u001b[1;32m    655\u001b[0m     \u001b[38;5;66;03m# If the input data has values outside the valid range (after\u001b[39;00m\n\u001b[1;32m    656\u001b[0m     \u001b[38;5;66;03m# normalisation), we issue a warning and then clip X to the bounds\u001b[39;00m\n\u001b[1;32m    657\u001b[0m     \u001b[38;5;66;03m# - otherwise casting wraps extreme values, hiding outliers and\u001b[39;00m\n\u001b[1;32m    658\u001b[0m     \u001b[38;5;66;03m# making reliable interpretation impossible.\u001b[39;00m\n\u001b[1;32m    659\u001b[0m     high \u001b[38;5;241m=\u001b[39m \u001b[38;5;241m255\u001b[39m \u001b[38;5;28;01mif\u001b[39;00m np\u001b[38;5;241m.\u001b[39missubdtype(A\u001b[38;5;241m.\u001b[39mdtype, np\u001b[38;5;241m.\u001b[39minteger) \u001b[38;5;28;01melse\u001b[39;00m \u001b[38;5;241m1\u001b[39m\n",
      "\u001b[0;31mTypeError\u001b[0m: Invalid shape (3, 600, 800) for image data"
     ]
    },
    {
     "data": {
      "image/png": "[encoded data removed]",
      "text/plain": [
       "<Figure size 1000x500 with 3 Axes>"
      ]
     },
     "metadata": {},
     "output_type": "display_data"
    }
   ],
   "source": [
    "visualize_fetal_dataset(FRds)"
   ]
  },
  {
   "cell_type": "code",
   "execution_count": 8,
   "id": "75152126-ad46-4037-af71-abee6187f2aa",
   "metadata": {},
   "outputs": [],
   "source": [
    "def run_segmentation_experiments(\n",
    "    master_seed, network_name, display_name, experiment_name, network_f, training_data, testing_data,\n",
    "    weight_path, maps_path, classes=None, epochs=10, patience=5,\n",
    "    n_seeds=30, n_inputs=3, n_classes=2, train_batch=4, test_batch=10, saliency_batch=4, verbose=1\n",
    "):\n",
    "    \n",
    "    training_set, validation_set = training_data.breakTrainValid(0.8)\n",
    "    testing_set = testing_data\n",
    "\n",
    "    # make paths if they did not exist\n",
    "    for d in [weight_path,maps_path]: Path(d).mkdir(parents=True, exist_ok=True)\n",
    "    \n",
    "    # Choosing random runs.\n",
    "    np.random.seed(master_seed)\n",
    "    seeds = np.random.randint(0, 100000, n_seeds)\n",
    "    c = color_codes()\n",
    "\n",
    "    dsc_list = []\n",
    "    class_dsc_list = []\n",
    "    # Main loop to run each independent random experiment.\n",
    "    for test_n, seed in enumerate(seeds):\n",
    "        acc = 0\n",
    "        np.random.seed(seed)\n",
    "        torch.manual_seed(seed)\n",
    "        \n",
    "        # The network will only be instantiated with the number of output classes\n",
    "        # (2 in this notebok). Therefore, networks that need extra parameters (like ViT)\n",
    "        # will need to be passed as a partial function.\n",
    "        net = network_f(n_inputs=n_inputs, n_outputs=n_classes)\n",
    "               \n",
    "        # This is a leftover from legacy code. If init is set to True (the default option),\n",
    "        # a first validation epoch will be run to determine the loss before training.\n",
    "        net.init = False\n",
    "        \n",
    "        # The number of parameters is only captured for debugging and printing.\n",
    "        n_param = sum(\n",
    "            p.numel() for p in net.parameters() if p.requires_grad\n",
    "        )\n",
    "\n",
    "        if verbose > 1:\n",
    "            print(\n",
    "                '{:}[{:}] {:}Starting experiment {:}(seed {:05d} - {:} {:}[{:,} parameters]{:})'\n",
    "                '{:} [{:02d}/{:02d}] {:}for {:} segmentation{:}'.format(\n",
    "                    c['clr'] + c['c'], strftime(\"%m/%d/%Y - %H:%M:%S\"), c['g'],\n",
    "                    c['nc'] + c['y'], seed, c['b'] + display_name,\n",
    "                    c['nc'], n_param, c['y'],\n",
    "                    c['nc'] + c['c'], test_n + 1, len(seeds),\n",
    "                    c['nc'] + c['g'], c['b'] + experiment_name + c['nc'] + c['g'], c['nc']\n",
    "                )\n",
    "            )\n",
    "        \n",
    "        training_loader = DataLoader(\n",
    "            training_set, train_batch, True\n",
    "        )\n",
    "        validation_loader = DataLoader(\n",
    "            validation_set, test_batch\n",
    "        )\n",
    "        model_path = os.path.join(\n",
    "            weight_path, '{:}-balanced_s{:05d}_p.pt'.format(network_name, seed)\n",
    "        )\n",
    "        \n",
    "        # For efficiency, we only run the code once. If the weights are\n",
    "        # stored on disk, we do not need to train again.\n",
    "        try:\n",
    "            net.load_model(model_path)\n",
    "        except IOError:\n",
    "            net.train()\n",
    "            print(''.join([' '] * 200), end='\\r')\n",
    "            net.fit(training_loader, validation_loader, epochs=epochs, patience=patience)\n",
    "            net.save_model(model_path)\n",
    "        \n",
    "        if verbose > 2:\n",
    "            print(''.join([' '] * 200), end='\\r')\n",
    "            print(\n",
    "                '{:}[{:}] {:}Testing {:}(seed {:05d}){:} [{:02d}/{:02d}] '\n",
    "                '{:}for {:} segmentation <{:03d} samples>{:}'.format(\n",
    "                    c['clr'] + c['c'], strftime(\"%m/%d/%Y - %H:%M:%S\"), c['g'],\n",
    "                    c['nc'] + c['y'], seed, c['nc'] + c['c'], test_n + 1, len(seeds),\n",
    "                    c['nc'] + c['g'], c['b'] + experiment_name + c['nc'] + c['g'], \n",
    "                    len(training_set), c['nc']\n",
    "                )\n",
    "            )\n",
    "        \n",
    "        # Metric evaluation.\n",
    "        net.eval()\n",
    "        with torch.no_grad():\n",
    "            mosaic_dsc = []\n",
    "            mosaic_class_dsc = []\n",
    "            # Intermediate buffers for class metrics.\n",
    "            #for input_mosaic, mask_i in zip(testing_mosaics, testing_masks):\n",
    "            for input_mosaic, mask_i in testing_data:\n",
    "                pred_map = net.inference(\n",
    "                    np.expand_dims(\n",
    "                        normalise(input_mosaic).astype(np.float32),\n",
    "                        axis=0\n",
    "                    )\n",
    "                )[0]\n",
    "            \n",
    "                pred_y = np.argmax(pred_map, axis=0).astype(np.uint8)\n",
    "                y = mask_i.astype(np.uint8)\n",
    "                intersection = np.stack([\n",
    "                    2 * np.sum(np.logical_and(pred_y == lab, y == lab))\n",
    "                    for lab in range(n_classes)\n",
    "                ])\n",
    "                card_pred_y = np.stack([\n",
    "                    np.sum(pred_y == lab) for lab in range(n_classes)\n",
    "                ])\n",
    "                card_y = np.stack([\n",
    "                    np.sum(y == lab) for lab in range(n_classes)\n",
    "                ])\n",
    "                dsc_k = intersection / (card_pred_y + card_y)\n",
    "                dsc = np.nanmean(dsc_k)\n",
    "                mosaic_dsc.append(dsc)\n",
    "                mosaic_class_dsc.append(dsc_k.tolist())\n",
    "\n",
    "                for i, map_i in enumerate(softmax(pred_map, axis=0)):\n",
    "                    map_path = os.path.join(\n",
    "                        maps_path, '{:}-balanced_s{:05d}_map_{:02d}.png'.format(\n",
    "                            network_name, seed, i\n",
    "                        )\n",
    "                    )\n",
    "                    final_map = (255 * map_i).astype(np.uint8)\n",
    "                    skio.imsave(map_path, final_map.astype(np.uint8))\n",
    "                map_path = os.path.join(\n",
    "                    maps_path, '{:}-balanced_s{:05d}_masks.png'.format(\n",
    "                        network_name, seed\n",
    "                    )\n",
    "                )\n",
    "                final_map = (255 * (pred_y / (n_classes - 1))).astype(np.uint8)\n",
    "                skio.imsave(map_path, final_map.astype(np.uint8))\n",
    "                \n",
    "                dsc = np.nanmean(mosaic_dsc, axis=0)\n",
    "                class_dsc = np.nanmean(mosaic_class_dsc, axis=0)\n",
    "        if verbose > 2:\n",
    "            print(''.join([' '] * 200), end='\\r')\n",
    "            print(\n",
    "                '{:}[{:}] {:}DSC{:} (seed {:05d}){:} [{:02d}/{:02d}] {:}'\n",
    "                '{:5.3f}{:}'.format(\n",
    "                    c['clr'] + c['c'], strftime(\"%m/%d/%Y - %H:%M:%S\"), c['g'],\n",
    "                    c['nc'] + c['y'], seed, c['nc'] + c['c'], test_n + 1, len(seeds),\n",
    "                    c['nc'] + c['b'], dsc, c['nc']\n",
    "                )\n",
    "            )\n",
    "\n",
    "            class_dsc_s = ', '.join([\n",
    "            '{:} {:5.3f}'.format(k, dsc_k)\n",
    "                for k, dsc_k in zip(classes, class_dsc)\n",
    "            ])\n",
    "            print(\n",
    "                '{:}[{:}] {:}Class DSC{:} (seed {:05d}){:} [{:02d}/{:02d}] {:}'.format(\n",
    "                    c['clr'] + c['c'], strftime(\"%m/%d/%Y - %H:%M:%S\"), c['g'],\n",
    "                    c['nc'] + c['y'], seed, c['nc'] + c['c'], test_n + 1, len(seeds),\n",
    "                    c['nc'] + c['b'] + class_dsc_s + c['nc']\n",
    "                )\n",
    "            )\n",
    "        elif verbose > 1:\n",
    "            print(''.join([' '] * 200), end='\\r')\n",
    "            print(\n",
    "                '{:}Seed {:05d} {:} [{:,} parameters] '\n",
    "                '{:}[{:02d}/{:02d}] {:} {:5.3f}{:}'.format(\n",
    "                    c['y'], seed, c['b'] + display_name + c['nc'], n_param,\n",
    "                    c['c'], test_n + 1, len(seeds),\n",
    "                    c['nc'] + c['g'] + c['b'] + experiment_name + c['nc'] + c['b'],\n",
    "                    dsc, c['nc']\n",
    "                )\n",
    "            )\n",
    "        elif verbose > 0:\n",
    "            print(''.join([' '] * 200), end='\\r')\n",
    "            print(\n",
    "                '{:}Seed {:05d} {:} [{:,} parameters] '\n",
    "                '{:}[{:02d}/{:02d}] {:} {:5.3f}{:}'.format(\n",
    "                    c['y'], seed, c['b'] + display_name + c['nc'], n_param,\n",
    "                    c['c'], test_n + 1, len(seeds),\n",
    "                    c['nc'] + c['g'] + c['b'] + experiment_name + c['nc'] + c['b'],\n",
    "                    dsc, c['nc']\n",
    "                ), end='\\r'\n",
    "            )\n",
    "        net = None\n",
    "        torch.cuda.empty_cache()\n",
    "        torch.cuda.ipc_collect()\n",
    "        dsc_list.append(mosaic_dsc)\n",
    "        class_dsc_list.append(mosaic_class_dsc)\n",
    "    \n",
    "    # Metrics for all the runs.\n",
    "    if verbose > 0:\n",
    "        print(''.join([' '] * 200), end='\\r')\n",
    "        print(\n",
    "            '{:}[{:}] {:} Mean DSC{:} {:5.3f}{:}'.format(\n",
    "                c['clr'] + c['c'], strftime(\"%m/%d/%Y - %H:%M:%S\"),\n",
    "                c['nc'] + c['y'] + c['b'] + display_name + c['nc'] + c['g'],\n",
    "                c['nc'] + c['b'], np.nanmean(dsc_list), c['nc']\n",
    "            )\n",
    "        )\n",
    "        class_dsc_s = ', '.join([\n",
    "            '{:} {:5.3f}'.format(k, dsc_k)\n",
    "            for k, dsc_k in zip(\n",
    "                classes, np.nanmean(class_dsc_list, axis=(0, 1))\n",
    "            )\n",
    "        ])\n",
    "        print(\n",
    "            '{:}[{:}] {:} Mean class DSC {:}'.format(\n",
    "                c['clr'] + c['c'], strftime(\"%m/%d/%Y - %H:%M:%S\"), \n",
    "                c['nc'] + c['y'] + c['b'] + display_name + c['nc'] + c['g'],\n",
    "                c['nc'] + c['b'] + class_dsc_s + c['nc']\n",
    "            )\n",
    "        )\n",
    "        \n",
    "    return dsc_list, class_dsc_list"
   ]
  },
  {
   "cell_type": "code",
   "execution_count": 9,
   "id": "12392dd0-cbd5-4ac3-a281-42ea084ab561",
   "metadata": {},
   "outputs": [
    {
     "name": "stderr",
     "output_type": "stream",
     "text": [
      "/home/yago/anaconda3/envs/fetal/lib/python3.10/site-packages/skimage/_shared/utils.py:328: UserWarning: ./data/Predictions/unet2d-balanced_s15795_masks.png is a low contrast image\n",
      "  return func(*args, **kwargs)\n",
      "/home/yago/anaconda3/envs/fetal/lib/python3.10/site-packages/skimage/_shared/utils.py:328: UserWarning: ./data/Predictions/unet2d-balanced_s15795_masks.png is a low contrast image\n",
      "  return func(*args, **kwargs)\n",
      "/home/yago/anaconda3/envs/fetal/lib/python3.10/site-packages/skimage/_shared/utils.py:328: UserWarning: ./data/Predictions/unet2d-balanced_s15795_masks.png is a low contrast image\n",
      "  return func(*args, **kwargs)\n",
      "/home/yago/anaconda3/envs/fetal/lib/python3.10/site-packages/skimage/_shared/utils.py:328: UserWarning: ./data/Predictions/unet2d-balanced_s15795_masks.png is a low contrast image\n",
      "  return func(*args, **kwargs)\n",
      "/home/yago/anaconda3/envs/fetal/lib/python3.10/site-packages/skimage/_shared/utils.py:328: UserWarning: ./data/Predictions/unet2d-balanced_s15795_masks.png is a low contrast image\n",
      "  return func(*args, **kwargs)\n",
      "/home/yago/anaconda3/envs/fetal/lib/python3.10/site-packages/skimage/_shared/utils.py:328: UserWarning: ./data/Predictions/unet2d-balanced_s15795_masks.png is a low contrast image\n",
      "  return func(*args, **kwargs)\n",
      "/home/yago/anaconda3/envs/fetal/lib/python3.10/site-packages/skimage/_shared/utils.py:328: UserWarning: ./data/Predictions/unet2d-balanced_s15795_masks.png is a low contrast image\n",
      "  return func(*args, **kwargs)\n",
      "/home/yago/anaconda3/envs/fetal/lib/python3.10/site-packages/skimage/_shared/utils.py:328: UserWarning: ./data/Predictions/unet2d-balanced_s00860_masks.png is a low contrast image\n",
      "  return func(*args, **kwargs)\n"
     ]
    },
    {
     "name": "stdout",
     "output_type": "stream",
     "text": [
      "\u001b[33mSeed 15795 \u001b[1mUnet 2D\u001b[0m [13,273,989 parameters] \u001b[36m[01/30] \u001b[0m\u001b[32m\u001b[1mfetal us\u001b[0m\u001b[1m 0.198\u001b[0m                                                                                            "
     ]
    },
    {
     "name": "stderr",
     "output_type": "stream",
     "text": [
      "/home/yago/anaconda3/envs/fetal/lib/python3.10/site-packages/skimage/_shared/utils.py:328: UserWarning: ./data/Predictions/unet2d-balanced_s00860_masks.png is a low contrast image\n",
      "  return func(*args, **kwargs)\n",
      "/home/yago/anaconda3/envs/fetal/lib/python3.10/site-packages/skimage/_shared/utils.py:328: UserWarning: ./data/Predictions/unet2d-balanced_s00860_masks.png is a low contrast image\n",
      "  return func(*args, **kwargs)\n",
      "/home/yago/anaconda3/envs/fetal/lib/python3.10/site-packages/skimage/_shared/utils.py:328: UserWarning: ./data/Predictions/unet2d-balanced_s00860_masks.png is a low contrast image\n",
      "  return func(*args, **kwargs)\n",
      "/home/yago/anaconda3/envs/fetal/lib/python3.10/site-packages/skimage/_shared/utils.py:328: UserWarning: ./data/Predictions/unet2d-balanced_s00860_masks.png is a low contrast image\n",
      "  return func(*args, **kwargs)\n",
      "/home/yago/anaconda3/envs/fetal/lib/python3.10/site-packages/skimage/_shared/utils.py:328: UserWarning: ./data/Predictions/unet2d-balanced_s00860_masks.png is a low contrast image\n",
      "  return func(*args, **kwargs)\n",
      "/home/yago/anaconda3/envs/fetal/lib/python3.10/site-packages/skimage/_shared/utils.py:328: UserWarning: ./data/Predictions/unet2d-balanced_s00860_masks.png is a low contrast image\n",
      "  return func(*args, **kwargs)\n"
     ]
    },
    {
     "name": "stdout",
     "output_type": "stream",
     "text": [
      "\u001b[33mSeed 00860 \u001b[1mUnet 2D\u001b[0m [13,273,989 parameters] \u001b[36m[02/30] \u001b[0m\u001b[32m\u001b[1mfetal us\u001b[0m\u001b[1m 0.198\u001b[0m                                                                                            "
     ]
    },
    {
     "name": "stderr",
     "output_type": "stream",
     "text": [
      "/home/yago/anaconda3/envs/fetal/lib/python3.10/site-packages/skimage/_shared/utils.py:328: UserWarning: ./data/Predictions/unet2d-balanced_s76820_masks.png is a low contrast image\n",
      "  return func(*args, **kwargs)\n",
      "/home/yago/anaconda3/envs/fetal/lib/python3.10/site-packages/skimage/_shared/utils.py:328: UserWarning: ./data/Predictions/unet2d-balanced_s76820_masks.png is a low contrast image\n",
      "  return func(*args, **kwargs)\n",
      "/home/yago/anaconda3/envs/fetal/lib/python3.10/site-packages/skimage/_shared/utils.py:328: UserWarning: ./data/Predictions/unet2d-balanced_s76820_masks.png is a low contrast image\n",
      "  return func(*args, **kwargs)\n",
      "/home/yago/anaconda3/envs/fetal/lib/python3.10/site-packages/skimage/_shared/utils.py:328: UserWarning: ./data/Predictions/unet2d-balanced_s76820_masks.png is a low contrast image\n",
      "  return func(*args, **kwargs)\n",
      "/home/yago/anaconda3/envs/fetal/lib/python3.10/site-packages/skimage/_shared/utils.py:328: UserWarning: ./data/Predictions/unet2d-balanced_s76820_masks.png is a low contrast image\n",
      "  return func(*args, **kwargs)\n",
      "/home/yago/anaconda3/envs/fetal/lib/python3.10/site-packages/skimage/_shared/utils.py:328: UserWarning: ./data/Predictions/unet2d-balanced_s76820_masks.png is a low contrast image\n",
      "  return func(*args, **kwargs)\n",
      "/home/yago/anaconda3/envs/fetal/lib/python3.10/site-packages/skimage/_shared/utils.py:328: UserWarning: ./data/Predictions/unet2d-balanced_s76820_masks.png is a low contrast image\n",
      "  return func(*args, **kwargs)\n"
     ]
    },
    {
     "name": "stdout",
     "output_type": "stream",
     "text": [
      "\u001b[33mSeed 06265 \u001b[1mUnet 2D\u001b[0m [13,273,989 parameters] \u001b[36m[05/30] \u001b[0m\u001b[32m\u001b[1mfetal us\u001b[0m\u001b[1m 0.185\u001b[0m                                                                                            "
     ]
    },
    {
     "name": "stderr",
     "output_type": "stream",
     "text": [
      "/home/yago/anaconda3/envs/fetal/lib/python3.10/site-packages/skimage/_shared/utils.py:328: UserWarning: ./data/Predictions/unet2d-balanced_s82386_masks.png is a low contrast image\n",
      "  return func(*args, **kwargs)\n",
      "/home/yago/anaconda3/envs/fetal/lib/python3.10/site-packages/skimage/_shared/utils.py:328: UserWarning: ./data/Predictions/unet2d-balanced_s82386_masks.png is a low contrast image\n",
      "  return func(*args, **kwargs)\n",
      "/home/yago/anaconda3/envs/fetal/lib/python3.10/site-packages/skimage/_shared/utils.py:328: UserWarning: ./data/Predictions/unet2d-balanced_s82386_masks.png is a low contrast image\n",
      "  return func(*args, **kwargs)\n",
      "/home/yago/anaconda3/envs/fetal/lib/python3.10/site-packages/skimage/_shared/utils.py:328: UserWarning: ./data/Predictions/unet2d-balanced_s82386_masks.png is a low contrast image\n",
      "  return func(*args, **kwargs)\n",
      "/home/yago/anaconda3/envs/fetal/lib/python3.10/site-packages/skimage/_shared/utils.py:328: UserWarning: ./data/Predictions/unet2d-balanced_s82386_masks.png is a low contrast image\n",
      "  return func(*args, **kwargs)\n",
      "/home/yago/anaconda3/envs/fetal/lib/python3.10/site-packages/skimage/_shared/utils.py:328: UserWarning: ./data/Predictions/unet2d-balanced_s37194_masks.png is a low contrast image\n",
      "  return func(*args, **kwargs)\n",
      "/home/yago/anaconda3/envs/fetal/lib/python3.10/site-packages/skimage/_shared/utils.py:328: UserWarning: ./data/Predictions/unet2d-balanced_s37194_masks.png is a low contrast image\n",
      "  return func(*args, **kwargs)\n"
     ]
    },
    {
     "name": "stdout",
     "output_type": "stream",
     "text": [
      "\u001b[33mSeed 82386 \u001b[1mUnet 2D\u001b[0m [13,273,989 parameters] \u001b[36m[06/30] \u001b[0m\u001b[32m\u001b[1mfetal us\u001b[0m\u001b[1m 0.198\u001b[0m                                                                                            "
     ]
    },
    {
     "name": "stderr",
     "output_type": "stream",
     "text": [
      "/home/yago/anaconda3/envs/fetal/lib/python3.10/site-packages/skimage/_shared/utils.py:328: UserWarning: ./data/Predictions/unet2d-balanced_s37194_masks.png is a low contrast image\n",
      "  return func(*args, **kwargs)\n",
      "/home/yago/anaconda3/envs/fetal/lib/python3.10/site-packages/skimage/_shared/utils.py:328: UserWarning: ./data/Predictions/unet2d-balanced_s37194_masks.png is a low contrast image\n",
      "  return func(*args, **kwargs)\n",
      "/home/yago/anaconda3/envs/fetal/lib/python3.10/site-packages/skimage/_shared/utils.py:328: UserWarning: ./data/Predictions/unet2d-balanced_s37194_masks.png is a low contrast image\n",
      "  return func(*args, **kwargs)\n",
      "/home/yago/anaconda3/envs/fetal/lib/python3.10/site-packages/skimage/_shared/utils.py:328: UserWarning: ./data/Predictions/unet2d-balanced_s37194_masks.png is a low contrast image\n",
      "  return func(*args, **kwargs)\n",
      "/home/yago/anaconda3/envs/fetal/lib/python3.10/site-packages/skimage/_shared/utils.py:328: UserWarning: ./data/Predictions/unet2d-balanced_s37194_masks.png is a low contrast image\n",
      "  return func(*args, **kwargs)\n",
      "/home/yago/anaconda3/envs/fetal/lib/python3.10/site-packages/skimage/_shared/utils.py:328: UserWarning: ./data/Predictions/unet2d-balanced_s87498_masks.png is a low contrast image\n",
      "  return func(*args, **kwargs)\n"
     ]
    },
    {
     "name": "stdout",
     "output_type": "stream",
     "text": [
      "\u001b[33mSeed 37194 \u001b[1mUnet 2D\u001b[0m [13,273,989 parameters] \u001b[36m[07/30] \u001b[0m\u001b[32m\u001b[1mfetal us\u001b[0m\u001b[1m 0.198\u001b[0m                                                                                            "
     ]
    },
    {
     "name": "stderr",
     "output_type": "stream",
     "text": [
      "/home/yago/anaconda3/envs/fetal/lib/python3.10/site-packages/skimage/_shared/utils.py:328: UserWarning: ./data/Predictions/unet2d-balanced_s87498_masks.png is a low contrast image\n",
      "  return func(*args, **kwargs)\n",
      "/home/yago/anaconda3/envs/fetal/lib/python3.10/site-packages/skimage/_shared/utils.py:328: UserWarning: ./data/Predictions/unet2d-balanced_s87498_masks.png is a low contrast image\n",
      "  return func(*args, **kwargs)\n",
      "/home/yago/anaconda3/envs/fetal/lib/python3.10/site-packages/skimage/_shared/utils.py:328: UserWarning: ./data/Predictions/unet2d-balanced_s87498_masks.png is a low contrast image\n",
      "  return func(*args, **kwargs)\n",
      "/home/yago/anaconda3/envs/fetal/lib/python3.10/site-packages/skimage/_shared/utils.py:328: UserWarning: ./data/Predictions/unet2d-balanced_s87498_masks.png is a low contrast image\n",
      "  return func(*args, **kwargs)\n",
      "/home/yago/anaconda3/envs/fetal/lib/python3.10/site-packages/skimage/_shared/utils.py:328: UserWarning: ./data/Predictions/unet2d-balanced_s87498_masks.png is a low contrast image\n",
      "  return func(*args, **kwargs)\n",
      "/home/yago/anaconda3/envs/fetal/lib/python3.10/site-packages/skimage/_shared/utils.py:328: UserWarning: ./data/Predictions/unet2d-balanced_s87498_masks.png is a low contrast image\n",
      "  return func(*args, **kwargs)\n",
      "/home/yago/anaconda3/envs/fetal/lib/python3.10/site-packages/skimage/_shared/utils.py:328: UserWarning: ./data/Predictions/unet2d-balanced_s44131_masks.png is a low contrast image\n",
      "  return func(*args, **kwargs)\n"
     ]
    },
    {
     "name": "stdout",
     "output_type": "stream",
     "text": [
      "\u001b[33mSeed 87498 \u001b[1mUnet 2D\u001b[0m [13,273,989 parameters] \u001b[36m[08/30] \u001b[0m\u001b[32m\u001b[1mfetal us\u001b[0m\u001b[1m 0.198\u001b[0m                                                                                            "
     ]
    },
    {
     "name": "stderr",
     "output_type": "stream",
     "text": [
      "/home/yago/anaconda3/envs/fetal/lib/python3.10/site-packages/skimage/_shared/utils.py:328: UserWarning: ./data/Predictions/unet2d-balanced_s44131_masks.png is a low contrast image\n",
      "  return func(*args, **kwargs)\n",
      "/home/yago/anaconda3/envs/fetal/lib/python3.10/site-packages/skimage/_shared/utils.py:328: UserWarning: ./data/Predictions/unet2d-balanced_s44131_masks.png is a low contrast image\n",
      "  return func(*args, **kwargs)\n",
      "/home/yago/anaconda3/envs/fetal/lib/python3.10/site-packages/skimage/_shared/utils.py:328: UserWarning: ./data/Predictions/unet2d-balanced_s44131_masks.png is a low contrast image\n",
      "  return func(*args, **kwargs)\n",
      "/home/yago/anaconda3/envs/fetal/lib/python3.10/site-packages/skimage/_shared/utils.py:328: UserWarning: ./data/Predictions/unet2d-balanced_s44131_masks.png is a low contrast image\n",
      "  return func(*args, **kwargs)\n",
      "/home/yago/anaconda3/envs/fetal/lib/python3.10/site-packages/skimage/_shared/utils.py:328: UserWarning: ./data/Predictions/unet2d-balanced_s44131_masks.png is a low contrast image\n",
      "  return func(*args, **kwargs)\n",
      "/home/yago/anaconda3/envs/fetal/lib/python3.10/site-packages/skimage/_shared/utils.py:328: UserWarning: ./data/Predictions/unet2d-balanced_s44131_masks.png is a low contrast image\n",
      "  return func(*args, **kwargs)\n"
     ]
    },
    {
     "name": "stdout",
     "output_type": "stream",
     "text": [
      "\u001b[33mSeed 44131 \u001b[1mUnet 2D\u001b[0m [13,273,989 parameters] \u001b[36m[09/30] \u001b[0m\u001b[32m\u001b[1mfetal us\u001b[0m\u001b[1m 0.198\u001b[0m                                                                                            "
     ]
    },
    {
     "name": "stderr",
     "output_type": "stream",
     "text": [
      "/home/yago/anaconda3/envs/fetal/lib/python3.10/site-packages/skimage/_shared/utils.py:328: UserWarning: ./data/Predictions/unet2d-balanced_s60263_map_03.png is a low contrast image\n",
      "  return func(*args, **kwargs)\n",
      "/home/yago/anaconda3/envs/fetal/lib/python3.10/site-packages/skimage/_shared/utils.py:328: UserWarning: ./data/Predictions/unet2d-balanced_s60263_masks.png is a low contrast image\n",
      "  return func(*args, **kwargs)\n",
      "/home/yago/anaconda3/envs/fetal/lib/python3.10/site-packages/skimage/_shared/utils.py:328: UserWarning: ./data/Predictions/unet2d-balanced_s60263_map_03.png is a low contrast image\n",
      "  return func(*args, **kwargs)\n",
      "/home/yago/anaconda3/envs/fetal/lib/python3.10/site-packages/skimage/_shared/utils.py:328: UserWarning: ./data/Predictions/unet2d-balanced_s60263_masks.png is a low contrast image\n",
      "  return func(*args, **kwargs)\n",
      "/home/yago/anaconda3/envs/fetal/lib/python3.10/site-packages/skimage/_shared/utils.py:328: UserWarning: ./data/Predictions/unet2d-balanced_s60263_map_03.png is a low contrast image\n",
      "  return func(*args, **kwargs)\n",
      "/home/yago/anaconda3/envs/fetal/lib/python3.10/site-packages/skimage/_shared/utils.py:328: UserWarning: ./data/Predictions/unet2d-balanced_s60263_masks.png is a low contrast image\n",
      "  return func(*args, **kwargs)\n",
      "/home/yago/anaconda3/envs/fetal/lib/python3.10/site-packages/skimage/_shared/utils.py:328: UserWarning: ./data/Predictions/unet2d-balanced_s60263_map_03.png is a low contrast image\n",
      "  return func(*args, **kwargs)\n",
      "/home/yago/anaconda3/envs/fetal/lib/python3.10/site-packages/skimage/_shared/utils.py:328: UserWarning: ./data/Predictions/unet2d-balanced_s60263_masks.png is a low contrast image\n",
      "  return func(*args, **kwargs)\n",
      "/home/yago/anaconda3/envs/fetal/lib/python3.10/site-packages/skimage/_shared/utils.py:328: UserWarning: ./data/Predictions/unet2d-balanced_s60263_map_03.png is a low contrast image\n",
      "  return func(*args, **kwargs)\n",
      "/home/yago/anaconda3/envs/fetal/lib/python3.10/site-packages/skimage/_shared/utils.py:328: UserWarning: ./data/Predictions/unet2d-balanced_s60263_masks.png is a low contrast image\n",
      "  return func(*args, **kwargs)\n",
      "/home/yago/anaconda3/envs/fetal/lib/python3.10/site-packages/skimage/_shared/utils.py:328: UserWarning: ./data/Predictions/unet2d-balanced_s60263_map_03.png is a low contrast image\n",
      "  return func(*args, **kwargs)\n",
      "/home/yago/anaconda3/envs/fetal/lib/python3.10/site-packages/skimage/_shared/utils.py:328: UserWarning: ./data/Predictions/unet2d-balanced_s60263_masks.png is a low contrast image\n",
      "  return func(*args, **kwargs)\n",
      "/home/yago/anaconda3/envs/fetal/lib/python3.10/site-packages/skimage/_shared/utils.py:328: UserWarning: ./data/Predictions/unet2d-balanced_s60263_map_03.png is a low contrast image\n",
      "  return func(*args, **kwargs)\n",
      "/home/yago/anaconda3/envs/fetal/lib/python3.10/site-packages/skimage/_shared/utils.py:328: UserWarning: ./data/Predictions/unet2d-balanced_s60263_masks.png is a low contrast image\n",
      "  return func(*args, **kwargs)\n"
     ]
    },
    {
     "name": "stdout",
     "output_type": "stream",
     "text": [
      "\u001b[33mSeed 60263 \u001b[1mUnet 2D\u001b[0m [13,273,989 parameters] \u001b[36m[10/30] \u001b[0m\u001b[32m\u001b[1mfetal us\u001b[0m\u001b[1m 0.198\u001b[0m                                                                                            "
     ]
    },
    {
     "name": "stderr",
     "output_type": "stream",
     "text": [
      "/home/yago/anaconda3/envs/fetal/lib/python3.10/site-packages/skimage/_shared/utils.py:328: UserWarning: ./data/Predictions/unet2d-balanced_s16023_masks.png is a low contrast image\n",
      "  return func(*args, **kwargs)\n",
      "/home/yago/anaconda3/envs/fetal/lib/python3.10/site-packages/skimage/_shared/utils.py:328: UserWarning: ./data/Predictions/unet2d-balanced_s16023_masks.png is a low contrast image\n",
      "  return func(*args, **kwargs)\n",
      "/home/yago/anaconda3/envs/fetal/lib/python3.10/site-packages/skimage/_shared/utils.py:328: UserWarning: ./data/Predictions/unet2d-balanced_s16023_masks.png is a low contrast image\n",
      "  return func(*args, **kwargs)\n",
      "/home/yago/anaconda3/envs/fetal/lib/python3.10/site-packages/skimage/_shared/utils.py:328: UserWarning: ./data/Predictions/unet2d-balanced_s16023_masks.png is a low contrast image\n",
      "  return func(*args, **kwargs)\n",
      "/home/yago/anaconda3/envs/fetal/lib/python3.10/site-packages/skimage/_shared/utils.py:328: UserWarning: ./data/Predictions/unet2d-balanced_s16023_masks.png is a low contrast image\n",
      "  return func(*args, **kwargs)\n",
      "/home/yago/anaconda3/envs/fetal/lib/python3.10/site-packages/skimage/_shared/utils.py:328: UserWarning: ./data/Predictions/unet2d-balanced_s16023_masks.png is a low contrast image\n",
      "  return func(*args, **kwargs)\n",
      "/home/yago/anaconda3/envs/fetal/lib/python3.10/site-packages/skimage/_shared/utils.py:328: UserWarning: ./data/Predictions/unet2d-balanced_s16023_masks.png is a low contrast image\n",
      "  return func(*args, **kwargs)\n"
     ]
    },
    {
     "name": "stdout",
     "output_type": "stream",
     "text": [
      "\u001b[33mSeed 16023 \u001b[1mUnet 2D\u001b[0m [13,273,989 parameters] \u001b[36m[11/30] \u001b[0m\u001b[32m\u001b[1mfetal us\u001b[0m\u001b[1m 0.198\u001b[0m                                                                                            "
     ]
    },
    {
     "name": "stderr",
     "output_type": "stream",
     "text": [
      "/home/yago/anaconda3/envs/fetal/lib/python3.10/site-packages/skimage/_shared/utils.py:328: UserWarning: ./data/Predictions/unet2d-balanced_s41090_masks.png is a low contrast image\n",
      "  return func(*args, **kwargs)\n",
      "/home/yago/anaconda3/envs/fetal/lib/python3.10/site-packages/skimage/_shared/utils.py:328: UserWarning: ./data/Predictions/unet2d-balanced_s41090_map_03.png is a low contrast image\n",
      "  return func(*args, **kwargs)\n",
      "/home/yago/anaconda3/envs/fetal/lib/python3.10/site-packages/skimage/_shared/utils.py:328: UserWarning: ./data/Predictions/unet2d-balanced_s41090_masks.png is a low contrast image\n",
      "  return func(*args, **kwargs)\n",
      "/home/yago/anaconda3/envs/fetal/lib/python3.10/site-packages/skimage/_shared/utils.py:328: UserWarning: ./data/Predictions/unet2d-balanced_s41090_map_03.png is a low contrast image\n",
      "  return func(*args, **kwargs)\n",
      "/home/yago/anaconda3/envs/fetal/lib/python3.10/site-packages/skimage/_shared/utils.py:328: UserWarning: ./data/Predictions/unet2d-balanced_s41090_masks.png is a low contrast image\n",
      "  return func(*args, **kwargs)\n",
      "/home/yago/anaconda3/envs/fetal/lib/python3.10/site-packages/skimage/_shared/utils.py:328: UserWarning: ./data/Predictions/unet2d-balanced_s41090_masks.png is a low contrast image\n",
      "  return func(*args, **kwargs)\n",
      "/home/yago/anaconda3/envs/fetal/lib/python3.10/site-packages/skimage/_shared/utils.py:328: UserWarning: ./data/Predictions/unet2d-balanced_s41090_masks.png is a low contrast image\n",
      "  return func(*args, **kwargs)\n",
      "/home/yago/anaconda3/envs/fetal/lib/python3.10/site-packages/skimage/_shared/utils.py:328: UserWarning: ./data/Predictions/unet2d-balanced_s41090_masks.png is a low contrast image\n",
      "  return func(*args, **kwargs)\n",
      "/home/yago/anaconda3/envs/fetal/lib/python3.10/site-packages/skimage/_shared/utils.py:328: UserWarning: ./data/Predictions/unet2d-balanced_s41090_masks.png is a low contrast image\n",
      "  return func(*args, **kwargs)\n",
      "/home/yago/anaconda3/envs/fetal/lib/python3.10/site-packages/skimage/_shared/utils.py:328: UserWarning: ./data/Predictions/unet2d-balanced_s67221_masks.png is a low contrast image\n",
      "  return func(*args, **kwargs)\n"
     ]
    },
    {
     "name": "stdout",
     "output_type": "stream",
     "text": [
      "\u001b[33mSeed 41090 \u001b[1mUnet 2D\u001b[0m [13,273,989 parameters] \u001b[36m[12/30] \u001b[0m\u001b[32m\u001b[1mfetal us\u001b[0m\u001b[1m 0.197\u001b[0m                                                                                            "
     ]
    },
    {
     "name": "stderr",
     "output_type": "stream",
     "text": [
      "/home/yago/anaconda3/envs/fetal/lib/python3.10/site-packages/skimage/_shared/utils.py:328: UserWarning: ./data/Predictions/unet2d-balanced_s67221_masks.png is a low contrast image\n",
      "  return func(*args, **kwargs)\n",
      "/home/yago/anaconda3/envs/fetal/lib/python3.10/site-packages/skimage/_shared/utils.py:328: UserWarning: ./data/Predictions/unet2d-balanced_s67221_masks.png is a low contrast image\n",
      "  return func(*args, **kwargs)\n",
      "/home/yago/anaconda3/envs/fetal/lib/python3.10/site-packages/skimage/_shared/utils.py:328: UserWarning: ./data/Predictions/unet2d-balanced_s67221_masks.png is a low contrast image\n",
      "  return func(*args, **kwargs)\n",
      "/home/yago/anaconda3/envs/fetal/lib/python3.10/site-packages/skimage/_shared/utils.py:328: UserWarning: ./data/Predictions/unet2d-balanced_s67221_masks.png is a low contrast image\n",
      "  return func(*args, **kwargs)\n",
      "/home/yago/anaconda3/envs/fetal/lib/python3.10/site-packages/skimage/_shared/utils.py:328: UserWarning: ./data/Predictions/unet2d-balanced_s67221_masks.png is a low contrast image\n",
      "  return func(*args, **kwargs)\n",
      "/home/yago/anaconda3/envs/fetal/lib/python3.10/site-packages/skimage/_shared/utils.py:328: UserWarning: ./data/Predictions/unet2d-balanced_s67221_masks.png is a low contrast image\n",
      "  return func(*args, **kwargs)\n"
     ]
    },
    {
     "name": "stdout",
     "output_type": "stream",
     "text": [
      "\u001b[33mSeed 64820 \u001b[1mUnet 2D\u001b[0m [13,273,989 parameters] \u001b[36m[14/30] \u001b[0m\u001b[32m\u001b[1mfetal us\u001b[0m\u001b[1m 0.188\u001b[0m                                                                                            "
     ]
    },
    {
     "name": "stderr",
     "output_type": "stream",
     "text": [
      "/home/yago/anaconda3/envs/fetal/lib/python3.10/site-packages/skimage/_shared/utils.py:328: UserWarning: ./data/Predictions/unet2d-balanced_s00769_masks.png is a low contrast image\n",
      "  return func(*args, **kwargs)\n",
      "/home/yago/anaconda3/envs/fetal/lib/python3.10/site-packages/skimage/_shared/utils.py:328: UserWarning: ./data/Predictions/unet2d-balanced_s00769_masks.png is a low contrast image\n",
      "  return func(*args, **kwargs)\n",
      "/home/yago/anaconda3/envs/fetal/lib/python3.10/site-packages/skimage/_shared/utils.py:328: UserWarning: ./data/Predictions/unet2d-balanced_s00769_masks.png is a low contrast image\n",
      "  return func(*args, **kwargs)\n",
      "/home/yago/anaconda3/envs/fetal/lib/python3.10/site-packages/skimage/_shared/utils.py:328: UserWarning: ./data/Predictions/unet2d-balanced_s00769_masks.png is a low contrast image\n",
      "  return func(*args, **kwargs)\n",
      "/home/yago/anaconda3/envs/fetal/lib/python3.10/site-packages/skimage/_shared/utils.py:328: UserWarning: ./data/Predictions/unet2d-balanced_s00769_masks.png is a low contrast image\n",
      "  return func(*args, **kwargs)\n",
      "/home/yago/anaconda3/envs/fetal/lib/python3.10/site-packages/skimage/_shared/utils.py:328: UserWarning: ./data/Predictions/unet2d-balanced_s00769_masks.png is a low contrast image\n",
      "  return func(*args, **kwargs)\n",
      "/home/yago/anaconda3/envs/fetal/lib/python3.10/site-packages/skimage/_shared/utils.py:328: UserWarning: ./data/Predictions/unet2d-balanced_s00769_masks.png is a low contrast image\n",
      "  return func(*args, **kwargs)\n"
     ]
    },
    {
     "name": "stdout",
     "output_type": "stream",
     "text": [
      "\u001b[33mSeed 00769 \u001b[1mUnet 2D\u001b[0m [13,273,989 parameters] \u001b[36m[15/30] \u001b[0m\u001b[32m\u001b[1mfetal us\u001b[0m\u001b[1m 0.198\u001b[0m                                                                                            "
     ]
    },
    {
     "name": "stderr",
     "output_type": "stream",
     "text": [
      "/home/yago/anaconda3/envs/fetal/lib/python3.10/site-packages/skimage/_shared/utils.py:328: UserWarning: ./data/Predictions/unet2d-balanced_s59735_masks.png is a low contrast image\n",
      "  return func(*args, **kwargs)\n",
      "/home/yago/anaconda3/envs/fetal/lib/python3.10/site-packages/skimage/_shared/utils.py:328: UserWarning: ./data/Predictions/unet2d-balanced_s59735_masks.png is a low contrast image\n",
      "  return func(*args, **kwargs)\n",
      "/home/yago/anaconda3/envs/fetal/lib/python3.10/site-packages/skimage/_shared/utils.py:328: UserWarning: ./data/Predictions/unet2d-balanced_s59735_masks.png is a low contrast image\n",
      "  return func(*args, **kwargs)\n",
      "/home/yago/anaconda3/envs/fetal/lib/python3.10/site-packages/skimage/_shared/utils.py:328: UserWarning: ./data/Predictions/unet2d-balanced_s59735_masks.png is a low contrast image\n",
      "  return func(*args, **kwargs)\n",
      "/home/yago/anaconda3/envs/fetal/lib/python3.10/site-packages/skimage/_shared/utils.py:328: UserWarning: ./data/Predictions/unet2d-balanced_s59735_masks.png is a low contrast image\n",
      "  return func(*args, **kwargs)\n",
      "/home/yago/anaconda3/envs/fetal/lib/python3.10/site-packages/skimage/_shared/utils.py:328: UserWarning: ./data/Predictions/unet2d-balanced_s59735_masks.png is a low contrast image\n",
      "  return func(*args, **kwargs)\n",
      "/home/yago/anaconda3/envs/fetal/lib/python3.10/site-packages/skimage/_shared/utils.py:328: UserWarning: ./data/Predictions/unet2d-balanced_s59735_masks.png is a low contrast image\n",
      "  return func(*args, **kwargs)\n",
      "/home/yago/anaconda3/envs/fetal/lib/python3.10/site-packages/skimage/_shared/utils.py:328: UserWarning: ./data/Predictions/unet2d-balanced_s62955_masks.png is a low contrast image\n",
      "  return func(*args, **kwargs)\n",
      "/home/yago/anaconda3/envs/fetal/lib/python3.10/site-packages/skimage/_shared/utils.py:328: UserWarning: ./data/Predictions/unet2d-balanced_s62955_masks.png is a low contrast image\n",
      "  return func(*args, **kwargs)\n"
     ]
    },
    {
     "name": "stdout",
     "output_type": "stream",
     "text": [
      "\u001b[33mSeed 59735 \u001b[1mUnet 2D\u001b[0m [13,273,989 parameters] \u001b[36m[16/30] \u001b[0m\u001b[32m\u001b[1mfetal us\u001b[0m\u001b[1m 0.198\u001b[0m                                                                                            "
     ]
    },
    {
     "name": "stderr",
     "output_type": "stream",
     "text": [
      "/home/yago/anaconda3/envs/fetal/lib/python3.10/site-packages/skimage/_shared/utils.py:328: UserWarning: ./data/Predictions/unet2d-balanced_s62955_masks.png is a low contrast image\n",
      "  return func(*args, **kwargs)\n",
      "/home/yago/anaconda3/envs/fetal/lib/python3.10/site-packages/skimage/_shared/utils.py:328: UserWarning: ./data/Predictions/unet2d-balanced_s62955_masks.png is a low contrast image\n",
      "  return func(*args, **kwargs)\n",
      "/home/yago/anaconda3/envs/fetal/lib/python3.10/site-packages/skimage/_shared/utils.py:328: UserWarning: ./data/Predictions/unet2d-balanced_s62955_masks.png is a low contrast image\n",
      "  return func(*args, **kwargs)\n",
      "/home/yago/anaconda3/envs/fetal/lib/python3.10/site-packages/skimage/_shared/utils.py:328: UserWarning: ./data/Predictions/unet2d-balanced_s62955_masks.png is a low contrast image\n",
      "  return func(*args, **kwargs)\n",
      "/home/yago/anaconda3/envs/fetal/lib/python3.10/site-packages/skimage/_shared/utils.py:328: UserWarning: ./data/Predictions/unet2d-balanced_s62955_masks.png is a low contrast image\n",
      "  return func(*args, **kwargs)\n"
     ]
    },
    {
     "name": "stdout",
     "output_type": "stream",
     "text": [
      "\u001b[33mSeed 62955 \u001b[1mUnet 2D\u001b[0m [13,273,989 parameters] \u001b[36m[17/30] \u001b[0m\u001b[32m\u001b[1mfetal us\u001b[0m\u001b[1m 0.198\u001b[0m                                                                                            "
     ]
    },
    {
     "name": "stderr",
     "output_type": "stream",
     "text": [
      "/home/yago/anaconda3/envs/fetal/lib/python3.10/site-packages/skimage/_shared/utils.py:328: UserWarning: ./data/Predictions/unet2d-balanced_s64925_masks.png is a low contrast image\n",
      "  return func(*args, **kwargs)\n",
      "/home/yago/anaconda3/envs/fetal/lib/python3.10/site-packages/skimage/_shared/utils.py:328: UserWarning: ./data/Predictions/unet2d-balanced_s64925_masks.png is a low contrast image\n",
      "  return func(*args, **kwargs)\n",
      "/home/yago/anaconda3/envs/fetal/lib/python3.10/site-packages/skimage/_shared/utils.py:328: UserWarning: ./data/Predictions/unet2d-balanced_s64925_masks.png is a low contrast image\n",
      "  return func(*args, **kwargs)\n",
      "/home/yago/anaconda3/envs/fetal/lib/python3.10/site-packages/skimage/_shared/utils.py:328: UserWarning: ./data/Predictions/unet2d-balanced_s64925_masks.png is a low contrast image\n",
      "  return func(*args, **kwargs)\n",
      "/home/yago/anaconda3/envs/fetal/lib/python3.10/site-packages/skimage/_shared/utils.py:328: UserWarning: ./data/Predictions/unet2d-balanced_s64925_masks.png is a low contrast image\n",
      "  return func(*args, **kwargs)\n",
      "/home/yago/anaconda3/envs/fetal/lib/python3.10/site-packages/skimage/_shared/utils.py:328: UserWarning: ./data/Predictions/unet2d-balanced_s64925_masks.png is a low contrast image\n",
      "  return func(*args, **kwargs)\n",
      "/home/yago/anaconda3/envs/fetal/lib/python3.10/site-packages/skimage/_shared/utils.py:328: UserWarning: ./data/Predictions/unet2d-balanced_s64925_masks.png is a low contrast image\n",
      "  return func(*args, **kwargs)\n"
     ]
    },
    {
     "name": "stdout",
     "output_type": "stream",
     "text": [
      "\u001b[33mSeed 64925 \u001b[1mUnet 2D\u001b[0m [13,273,989 parameters] \u001b[36m[18/30] \u001b[0m\u001b[32m\u001b[1mfetal us\u001b[0m\u001b[1m 0.198\u001b[0m                                                                                            "
     ]
    },
    {
     "name": "stderr",
     "output_type": "stream",
     "text": [
      "/home/yago/anaconda3/envs/fetal/lib/python3.10/site-packages/skimage/_shared/utils.py:328: UserWarning: ./data/Predictions/unet2d-balanced_s67969_masks.png is a low contrast image\n",
      "  return func(*args, **kwargs)\n",
      "/home/yago/anaconda3/envs/fetal/lib/python3.10/site-packages/skimage/_shared/utils.py:328: UserWarning: ./data/Predictions/unet2d-balanced_s67969_masks.png is a low contrast image\n",
      "  return func(*args, **kwargs)\n",
      "/home/yago/anaconda3/envs/fetal/lib/python3.10/site-packages/skimage/_shared/utils.py:328: UserWarning: ./data/Predictions/unet2d-balanced_s67969_masks.png is a low contrast image\n",
      "  return func(*args, **kwargs)\n",
      "/home/yago/anaconda3/envs/fetal/lib/python3.10/site-packages/skimage/_shared/utils.py:328: UserWarning: ./data/Predictions/unet2d-balanced_s67969_masks.png is a low contrast image\n",
      "  return func(*args, **kwargs)\n",
      "/home/yago/anaconda3/envs/fetal/lib/python3.10/site-packages/skimage/_shared/utils.py:328: UserWarning: ./data/Predictions/unet2d-balanced_s67969_masks.png is a low contrast image\n",
      "  return func(*args, **kwargs)\n",
      "/home/yago/anaconda3/envs/fetal/lib/python3.10/site-packages/skimage/_shared/utils.py:328: UserWarning: ./data/Predictions/unet2d-balanced_s67969_masks.png is a low contrast image\n",
      "  return func(*args, **kwargs)\n",
      "/home/yago/anaconda3/envs/fetal/lib/python3.10/site-packages/skimage/_shared/utils.py:328: UserWarning: ./data/Predictions/unet2d-balanced_s67969_masks.png is a low contrast image\n",
      "  return func(*args, **kwargs)\n",
      "/home/yago/anaconda3/envs/fetal/lib/python3.10/site-packages/skimage/_shared/utils.py:328: UserWarning: ./data/Predictions/unet2d-balanced_s05311_masks.png is a low contrast image\n",
      "  return func(*args, **kwargs)\n"
     ]
    },
    {
     "name": "stdout",
     "output_type": "stream",
     "text": [
      "\u001b[33mSeed 67969 \u001b[1mUnet 2D\u001b[0m [13,273,989 parameters] \u001b[36m[19/30] \u001b[0m\u001b[32m\u001b[1mfetal us\u001b[0m\u001b[1m 0.198\u001b[0m                                                                                            "
     ]
    },
    {
     "name": "stderr",
     "output_type": "stream",
     "text": [
      "/home/yago/anaconda3/envs/fetal/lib/python3.10/site-packages/skimage/_shared/utils.py:328: UserWarning: ./data/Predictions/unet2d-balanced_s05311_masks.png is a low contrast image\n",
      "  return func(*args, **kwargs)\n",
      "/home/yago/anaconda3/envs/fetal/lib/python3.10/site-packages/skimage/_shared/utils.py:328: UserWarning: ./data/Predictions/unet2d-balanced_s05311_masks.png is a low contrast image\n",
      "  return func(*args, **kwargs)\n",
      "/home/yago/anaconda3/envs/fetal/lib/python3.10/site-packages/skimage/_shared/utils.py:328: UserWarning: ./data/Predictions/unet2d-balanced_s05311_masks.png is a low contrast image\n",
      "  return func(*args, **kwargs)\n",
      "/home/yago/anaconda3/envs/fetal/lib/python3.10/site-packages/skimage/_shared/utils.py:328: UserWarning: ./data/Predictions/unet2d-balanced_s05311_masks.png is a low contrast image\n",
      "  return func(*args, **kwargs)\n",
      "/home/yago/anaconda3/envs/fetal/lib/python3.10/site-packages/skimage/_shared/utils.py:328: UserWarning: ./data/Predictions/unet2d-balanced_s05311_masks.png is a low contrast image\n",
      "  return func(*args, **kwargs)\n",
      "/home/yago/anaconda3/envs/fetal/lib/python3.10/site-packages/skimage/_shared/utils.py:328: UserWarning: ./data/Predictions/unet2d-balanced_s05311_masks.png is a low contrast image\n",
      "  return func(*args, **kwargs)\n",
      "/home/yago/anaconda3/envs/fetal/lib/python3.10/site-packages/skimage/_shared/utils.py:328: UserWarning: ./data/Predictions/unet2d-balanced_s83104_masks.png is a low contrast image\n",
      "  return func(*args, **kwargs)\n"
     ]
    },
    {
     "name": "stdout",
     "output_type": "stream",
     "text": [
      "\u001b[33mSeed 05311 \u001b[1mUnet 2D\u001b[0m [13,273,989 parameters] \u001b[36m[20/30] \u001b[0m\u001b[32m\u001b[1mfetal us\u001b[0m\u001b[1m 0.198\u001b[0m                                                                                            "
     ]
    },
    {
     "name": "stderr",
     "output_type": "stream",
     "text": [
      "/home/yago/anaconda3/envs/fetal/lib/python3.10/site-packages/skimage/_shared/utils.py:328: UserWarning: ./data/Predictions/unet2d-balanced_s83104_masks.png is a low contrast image\n",
      "  return func(*args, **kwargs)\n",
      "/home/yago/anaconda3/envs/fetal/lib/python3.10/site-packages/skimage/_shared/utils.py:328: UserWarning: ./data/Predictions/unet2d-balanced_s83104_masks.png is a low contrast image\n",
      "  return func(*args, **kwargs)\n",
      "/home/yago/anaconda3/envs/fetal/lib/python3.10/site-packages/skimage/_shared/utils.py:328: UserWarning: ./data/Predictions/unet2d-balanced_s83104_masks.png is a low contrast image\n",
      "  return func(*args, **kwargs)\n",
      "/home/yago/anaconda3/envs/fetal/lib/python3.10/site-packages/skimage/_shared/utils.py:328: UserWarning: ./data/Predictions/unet2d-balanced_s83104_masks.png is a low contrast image\n",
      "  return func(*args, **kwargs)\n",
      "/home/yago/anaconda3/envs/fetal/lib/python3.10/site-packages/skimage/_shared/utils.py:328: UserWarning: ./data/Predictions/unet2d-balanced_s83104_masks.png is a low contrast image\n",
      "  return func(*args, **kwargs)\n",
      "/home/yago/anaconda3/envs/fetal/lib/python3.10/site-packages/skimage/_shared/utils.py:328: UserWarning: ./data/Predictions/unet2d-balanced_s83104_masks.png is a low contrast image\n",
      "  return func(*args, **kwargs)\n"
     ]
    },
    {
     "name": "stdout",
     "output_type": "stream",
     "text": [
      "\u001b[33mSeed 83104 \u001b[1mUnet 2D\u001b[0m [13,273,989 parameters] \u001b[36m[21/30] \u001b[0m\u001b[32m\u001b[1mfetal us\u001b[0m\u001b[1m 0.198\u001b[0m                                                                                            "
     ]
    },
    {
     "name": "stderr",
     "output_type": "stream",
     "text": [
      "/home/yago/anaconda3/envs/fetal/lib/python3.10/site-packages/skimage/_shared/utils.py:328: UserWarning: ./data/Predictions/unet2d-balanced_s53707_masks.png is a low contrast image\n",
      "  return func(*args, **kwargs)\n",
      "/home/yago/anaconda3/envs/fetal/lib/python3.10/site-packages/skimage/_shared/utils.py:328: UserWarning: ./data/Predictions/unet2d-balanced_s53707_masks.png is a low contrast image\n",
      "  return func(*args, **kwargs)\n",
      "/home/yago/anaconda3/envs/fetal/lib/python3.10/site-packages/skimage/_shared/utils.py:328: UserWarning: ./data/Predictions/unet2d-balanced_s53707_masks.png is a low contrast image\n",
      "  return func(*args, **kwargs)\n",
      "/home/yago/anaconda3/envs/fetal/lib/python3.10/site-packages/skimage/_shared/utils.py:328: UserWarning: ./data/Predictions/unet2d-balanced_s53707_masks.png is a low contrast image\n",
      "  return func(*args, **kwargs)\n",
      "/home/yago/anaconda3/envs/fetal/lib/python3.10/site-packages/skimage/_shared/utils.py:328: UserWarning: ./data/Predictions/unet2d-balanced_s53707_masks.png is a low contrast image\n",
      "  return func(*args, **kwargs)\n",
      "/home/yago/anaconda3/envs/fetal/lib/python3.10/site-packages/skimage/_shared/utils.py:328: UserWarning: ./data/Predictions/unet2d-balanced_s53707_masks.png is a low contrast image\n",
      "  return func(*args, **kwargs)\n",
      "/home/yago/anaconda3/envs/fetal/lib/python3.10/site-packages/skimage/_shared/utils.py:328: UserWarning: ./data/Predictions/unet2d-balanced_s53707_masks.png is a low contrast image\n",
      "  return func(*args, **kwargs)\n",
      "/home/yago/anaconda3/envs/fetal/lib/python3.10/site-packages/skimage/_shared/utils.py:328: UserWarning: ./data/Predictions/unet2d-balanced_s85305_masks.png is a low contrast image\n",
      "  return func(*args, **kwargs)\n"
     ]
    },
    {
     "name": "stdout",
     "output_type": "stream",
     "text": [
      "\u001b[33mSeed 53707 \u001b[1mUnet 2D\u001b[0m [13,273,989 parameters] \u001b[36m[22/30] \u001b[0m\u001b[32m\u001b[1mfetal us\u001b[0m\u001b[1m 0.198\u001b[0m                                                                                            "
     ]
    },
    {
     "name": "stderr",
     "output_type": "stream",
     "text": [
      "/home/yago/anaconda3/envs/fetal/lib/python3.10/site-packages/skimage/_shared/utils.py:328: UserWarning: ./data/Predictions/unet2d-balanced_s85305_masks.png is a low contrast image\n",
      "  return func(*args, **kwargs)\n",
      "/home/yago/anaconda3/envs/fetal/lib/python3.10/site-packages/skimage/_shared/utils.py:328: UserWarning: ./data/Predictions/unet2d-balanced_s85305_masks.png is a low contrast image\n",
      "  return func(*args, **kwargs)\n",
      "/home/yago/anaconda3/envs/fetal/lib/python3.10/site-packages/skimage/_shared/utils.py:328: UserWarning: ./data/Predictions/unet2d-balanced_s85305_masks.png is a low contrast image\n",
      "  return func(*args, **kwargs)\n",
      "/home/yago/anaconda3/envs/fetal/lib/python3.10/site-packages/skimage/_shared/utils.py:328: UserWarning: ./data/Predictions/unet2d-balanced_s85305_masks.png is a low contrast image\n",
      "  return func(*args, **kwargs)\n",
      "/home/yago/anaconda3/envs/fetal/lib/python3.10/site-packages/skimage/_shared/utils.py:328: UserWarning: ./data/Predictions/unet2d-balanced_s85305_masks.png is a low contrast image\n",
      "  return func(*args, **kwargs)\n",
      "/home/yago/anaconda3/envs/fetal/lib/python3.10/site-packages/skimage/_shared/utils.py:328: UserWarning: ./data/Predictions/unet2d-balanced_s85305_masks.png is a low contrast image\n",
      "  return func(*args, **kwargs)\n"
     ]
    },
    {
     "name": "stdout",
     "output_type": "stream",
     "text": [
      "\u001b[33mSeed 85305 \u001b[1mUnet 2D\u001b[0m [13,273,989 parameters] \u001b[36m[23/30] \u001b[0m\u001b[32m\u001b[1mfetal us\u001b[0m\u001b[1m 0.198\u001b[0m                                                                                            "
     ]
    },
    {
     "name": "stderr",
     "output_type": "stream",
     "text": [
      "/home/yago/anaconda3/envs/fetal/lib/python3.10/site-packages/skimage/_shared/utils.py:328: UserWarning: ./data/Predictions/unet2d-balanced_s28693_masks.png is a low contrast image\n",
      "  return func(*args, **kwargs)\n",
      "/home/yago/anaconda3/envs/fetal/lib/python3.10/site-packages/skimage/_shared/utils.py:328: UserWarning: ./data/Predictions/unet2d-balanced_s28693_masks.png is a low contrast image\n",
      "  return func(*args, **kwargs)\n",
      "/home/yago/anaconda3/envs/fetal/lib/python3.10/site-packages/skimage/_shared/utils.py:328: UserWarning: ./data/Predictions/unet2d-balanced_s28693_masks.png is a low contrast image\n",
      "  return func(*args, **kwargs)\n"
     ]
    },
    {
     "name": "stdout",
     "output_type": "stream",
     "text": [
      "\u001b[33mSeed 28693 \u001b[1mUnet 2D\u001b[0m [13,273,989 parameters] \u001b[36m[24/30] \u001b[0m\u001b[32m\u001b[1mfetal us\u001b[0m\u001b[1m 0.195\u001b[0m                                                                                            "
     ]
    },
    {
     "name": "stderr",
     "output_type": "stream",
     "text": [
      "/home/yago/anaconda3/envs/fetal/lib/python3.10/site-packages/skimage/_shared/utils.py:328: UserWarning: ./data/Predictions/unet2d-balanced_s71932_masks.png is a low contrast image\n",
      "  return func(*args, **kwargs)\n",
      "/home/yago/anaconda3/envs/fetal/lib/python3.10/site-packages/skimage/_shared/utils.py:328: UserWarning: ./data/Predictions/unet2d-balanced_s71932_masks.png is a low contrast image\n",
      "  return func(*args, **kwargs)\n",
      "/home/yago/anaconda3/envs/fetal/lib/python3.10/site-packages/skimage/_shared/utils.py:328: UserWarning: ./data/Predictions/unet2d-balanced_s71932_masks.png is a low contrast image\n",
      "  return func(*args, **kwargs)\n",
      "/home/yago/anaconda3/envs/fetal/lib/python3.10/site-packages/skimage/_shared/utils.py:328: UserWarning: ./data/Predictions/unet2d-balanced_s71932_masks.png is a low contrast image\n",
      "  return func(*args, **kwargs)\n",
      "/home/yago/anaconda3/envs/fetal/lib/python3.10/site-packages/skimage/_shared/utils.py:328: UserWarning: ./data/Predictions/unet2d-balanced_s71932_masks.png is a low contrast image\n",
      "  return func(*args, **kwargs)\n",
      "/home/yago/anaconda3/envs/fetal/lib/python3.10/site-packages/skimage/_shared/utils.py:328: UserWarning: ./data/Predictions/unet2d-balanced_s71932_masks.png is a low contrast image\n",
      "  return func(*args, **kwargs)\n",
      "/home/yago/anaconda3/envs/fetal/lib/python3.10/site-packages/skimage/_shared/utils.py:328: UserWarning: ./data/Predictions/unet2d-balanced_s71932_masks.png is a low contrast image\n",
      "  return func(*args, **kwargs)\n",
      "/home/yago/anaconda3/envs/fetal/lib/python3.10/site-packages/skimage/_shared/utils.py:328: UserWarning: ./data/Predictions/unet2d-balanced_s93016_masks.png is a low contrast image\n",
      "  return func(*args, **kwargs)\n",
      "/home/yago/anaconda3/envs/fetal/lib/python3.10/site-packages/skimage/_shared/utils.py:328: UserWarning: ./data/Predictions/unet2d-balanced_s93016_masks.png is a low contrast image\n",
      "  return func(*args, **kwargs)\n"
     ]
    },
    {
     "name": "stdout",
     "output_type": "stream",
     "text": [
      "\u001b[33mSeed 71932 \u001b[1mUnet 2D\u001b[0m [13,273,989 parameters] \u001b[36m[25/30] \u001b[0m\u001b[32m\u001b[1mfetal us\u001b[0m\u001b[1m 0.197\u001b[0m                                                                                            "
     ]
    },
    {
     "name": "stderr",
     "output_type": "stream",
     "text": [
      "/home/yago/anaconda3/envs/fetal/lib/python3.10/site-packages/skimage/_shared/utils.py:328: UserWarning: ./data/Predictions/unet2d-balanced_s93016_masks.png is a low contrast image\n",
      "  return func(*args, **kwargs)\n",
      "/home/yago/anaconda3/envs/fetal/lib/python3.10/site-packages/skimage/_shared/utils.py:328: UserWarning: ./data/Predictions/unet2d-balanced_s93016_masks.png is a low contrast image\n",
      "  return func(*args, **kwargs)\n",
      "/home/yago/anaconda3/envs/fetal/lib/python3.10/site-packages/skimage/_shared/utils.py:328: UserWarning: ./data/Predictions/unet2d-balanced_s93016_masks.png is a low contrast image\n",
      "  return func(*args, **kwargs)\n",
      "/home/yago/anaconda3/envs/fetal/lib/python3.10/site-packages/skimage/_shared/utils.py:328: UserWarning: ./data/Predictions/unet2d-balanced_s93016_masks.png is a low contrast image\n",
      "  return func(*args, **kwargs)\n",
      "/home/yago/anaconda3/envs/fetal/lib/python3.10/site-packages/skimage/_shared/utils.py:328: UserWarning: ./data/Predictions/unet2d-balanced_s93016_masks.png is a low contrast image\n",
      "  return func(*args, **kwargs)\n"
     ]
    },
    {
     "name": "stdout",
     "output_type": "stream",
     "text": [
      "\u001b[33mSeed 93016 \u001b[1mUnet 2D\u001b[0m [13,273,989 parameters] \u001b[36m[26/30] \u001b[0m\u001b[32m\u001b[1mfetal us\u001b[0m\u001b[1m 0.198\u001b[0m                                                                                            "
     ]
    },
    {
     "name": "stderr",
     "output_type": "stream",
     "text": [
      "/home/yago/anaconda3/envs/fetal/lib/python3.10/site-packages/skimage/_shared/utils.py:328: UserWarning: ./data/Predictions/unet2d-balanced_s25658_masks.png is a low contrast image\n",
      "  return func(*args, **kwargs)\n",
      "/home/yago/anaconda3/envs/fetal/lib/python3.10/site-packages/skimage/_shared/utils.py:328: UserWarning: ./data/Predictions/unet2d-balanced_s25658_masks.png is a low contrast image\n",
      "  return func(*args, **kwargs)\n",
      "/home/yago/anaconda3/envs/fetal/lib/python3.10/site-packages/skimage/_shared/utils.py:328: UserWarning: ./data/Predictions/unet2d-balanced_s25658_masks.png is a low contrast image\n",
      "  return func(*args, **kwargs)\n",
      "/home/yago/anaconda3/envs/fetal/lib/python3.10/site-packages/skimage/_shared/utils.py:328: UserWarning: ./data/Predictions/unet2d-balanced_s25658_masks.png is a low contrast image\n",
      "  return func(*args, **kwargs)\n",
      "/home/yago/anaconda3/envs/fetal/lib/python3.10/site-packages/skimage/_shared/utils.py:328: UserWarning: ./data/Predictions/unet2d-balanced_s25658_masks.png is a low contrast image\n",
      "  return func(*args, **kwargs)\n",
      "/home/yago/anaconda3/envs/fetal/lib/python3.10/site-packages/skimage/_shared/utils.py:328: UserWarning: ./data/Predictions/unet2d-balanced_s25658_masks.png is a low contrast image\n",
      "  return func(*args, **kwargs)\n",
      "/home/yago/anaconda3/envs/fetal/lib/python3.10/site-packages/skimage/_shared/utils.py:328: UserWarning: ./data/Predictions/unet2d-balanced_s25658_masks.png is a low contrast image\n",
      "  return func(*args, **kwargs)\n",
      "/home/yago/anaconda3/envs/fetal/lib/python3.10/site-packages/skimage/_shared/utils.py:328: UserWarning: ./data/Predictions/unet2d-balanced_s84478_masks.png is a low contrast image\n",
      "  return func(*args, **kwargs)\n",
      "/home/yago/anaconda3/envs/fetal/lib/python3.10/site-packages/skimage/_shared/utils.py:328: UserWarning: ./data/Predictions/unet2d-balanced_s84478_masks.png is a low contrast image\n",
      "  return func(*args, **kwargs)\n"
     ]
    },
    {
     "name": "stdout",
     "output_type": "stream",
     "text": [
      "\u001b[33mSeed 25658 \u001b[1mUnet 2D\u001b[0m [13,273,989 parameters] \u001b[36m[27/30] \u001b[0m\u001b[32m\u001b[1mfetal us\u001b[0m\u001b[1m 0.198\u001b[0m                                                                                            "
     ]
    },
    {
     "name": "stderr",
     "output_type": "stream",
     "text": [
      "/home/yago/anaconda3/envs/fetal/lib/python3.10/site-packages/skimage/_shared/utils.py:328: UserWarning: ./data/Predictions/unet2d-balanced_s84478_masks.png is a low contrast image\n",
      "  return func(*args, **kwargs)\n",
      "/home/yago/anaconda3/envs/fetal/lib/python3.10/site-packages/skimage/_shared/utils.py:328: UserWarning: ./data/Predictions/unet2d-balanced_s84478_masks.png is a low contrast image\n",
      "  return func(*args, **kwargs)\n",
      "/home/yago/anaconda3/envs/fetal/lib/python3.10/site-packages/skimage/_shared/utils.py:328: UserWarning: ./data/Predictions/unet2d-balanced_s84478_masks.png is a low contrast image\n",
      "  return func(*args, **kwargs)\n",
      "/home/yago/anaconda3/envs/fetal/lib/python3.10/site-packages/skimage/_shared/utils.py:328: UserWarning: ./data/Predictions/unet2d-balanced_s84478_masks.png is a low contrast image\n",
      "  return func(*args, **kwargs)\n",
      "/home/yago/anaconda3/envs/fetal/lib/python3.10/site-packages/skimage/_shared/utils.py:328: UserWarning: ./data/Predictions/unet2d-balanced_s84478_masks.png is a low contrast image\n",
      "  return func(*args, **kwargs)\n",
      "/home/yago/anaconda3/envs/fetal/lib/python3.10/site-packages/skimage/_shared/utils.py:328: UserWarning: ./data/Predictions/unet2d-balanced_s18431_masks.png is a low contrast image\n",
      "  return func(*args, **kwargs)\n"
     ]
    },
    {
     "name": "stdout",
     "output_type": "stream",
     "text": [
      "\u001b[33mSeed 84478 \u001b[1mUnet 2D\u001b[0m [13,273,989 parameters] \u001b[36m[28/30] \u001b[0m\u001b[32m\u001b[1mfetal us\u001b[0m\u001b[1m 0.198\u001b[0m                                                                                            "
     ]
    },
    {
     "name": "stderr",
     "output_type": "stream",
     "text": [
      "/home/yago/anaconda3/envs/fetal/lib/python3.10/site-packages/skimage/_shared/utils.py:328: UserWarning: ./data/Predictions/unet2d-balanced_s18431_masks.png is a low contrast image\n",
      "  return func(*args, **kwargs)\n",
      "/home/yago/anaconda3/envs/fetal/lib/python3.10/site-packages/skimage/_shared/utils.py:328: UserWarning: ./data/Predictions/unet2d-balanced_s18431_masks.png is a low contrast image\n",
      "  return func(*args, **kwargs)\n",
      "/home/yago/anaconda3/envs/fetal/lib/python3.10/site-packages/skimage/_shared/utils.py:328: UserWarning: ./data/Predictions/unet2d-balanced_s18431_masks.png is a low contrast image\n",
      "  return func(*args, **kwargs)\n",
      "/home/yago/anaconda3/envs/fetal/lib/python3.10/site-packages/skimage/_shared/utils.py:328: UserWarning: ./data/Predictions/unet2d-balanced_s18431_masks.png is a low contrast image\n",
      "  return func(*args, **kwargs)\n",
      "/home/yago/anaconda3/envs/fetal/lib/python3.10/site-packages/skimage/_shared/utils.py:328: UserWarning: ./data/Predictions/unet2d-balanced_s18431_masks.png is a low contrast image\n",
      "  return func(*args, **kwargs)\n",
      "/home/yago/anaconda3/envs/fetal/lib/python3.10/site-packages/skimage/_shared/utils.py:328: UserWarning: ./data/Predictions/unet2d-balanced_s18431_masks.png is a low contrast image\n",
      "  return func(*args, **kwargs)\n"
     ]
    },
    {
     "name": "stdout",
     "output_type": "stream",
     "text": [
      "\u001b[K\u001b[36m[07/29/2025 - 15:23:55] \u001b[0m\u001b[33m\u001b[1mUnet 2D\u001b[0m\u001b[32m Mean DSC\u001b[0m\u001b[1m 0.196\u001b[0m                                                                                                                \n",
      "\u001b[K\u001b[36m[07/29/2025 - 15:23:55] \u001b[0m\u001b[33m\u001b[1mUnet 2D\u001b[0m\u001b[32m Mean class DSC \u001b[0m\u001b[1mbackground 0.981, third_sylvian 0.000, third_midline 0.000, third_cavum 0.000, third_cerebellum 0.001\u001b[0m\n"
     ]
    },
    {
     "name": "stderr",
     "output_type": "stream",
     "text": [
      "/home/yago/anaconda3/envs/fetal/lib/python3.10/site-packages/skimage/_shared/utils.py:328: UserWarning: ./data/Predictions/fcn-resnet50-balanced_s15795_masks.png is a low contrast image\n",
      "  return func(*args, **kwargs)\n",
      "/home/yago/anaconda3/envs/fetal/lib/python3.10/site-packages/skimage/_shared/utils.py:328: UserWarning: ./data/Predictions/fcn-resnet50-balanced_s15795_masks.png is a low contrast image\n",
      "  return func(*args, **kwargs)\n",
      "/home/yago/anaconda3/envs/fetal/lib/python3.10/site-packages/skimage/_shared/utils.py:328: UserWarning: ./data/Predictions/fcn-resnet50-balanced_s15795_masks.png is a low contrast image\n",
      "  return func(*args, **kwargs)\n",
      "/home/yago/anaconda3/envs/fetal/lib/python3.10/site-packages/skimage/_shared/utils.py:328: UserWarning: ./data/Predictions/fcn-resnet50-balanced_s15795_masks.png is a low contrast image\n",
      "  return func(*args, **kwargs)\n",
      "/home/yago/anaconda3/envs/fetal/lib/python3.10/site-packages/skimage/_shared/utils.py:328: UserWarning: ./data/Predictions/fcn-resnet50-balanced_s15795_masks.png is a low contrast image\n",
      "  return func(*args, **kwargs)\n",
      "/home/yago/anaconda3/envs/fetal/lib/python3.10/site-packages/skimage/_shared/utils.py:328: UserWarning: ./data/Predictions/fcn-resnet50-balanced_s15795_masks.png is a low contrast image\n",
      "  return func(*args, **kwargs)\n",
      "/home/yago/anaconda3/envs/fetal/lib/python3.10/site-packages/skimage/_shared/utils.py:328: UserWarning: ./data/Predictions/fcn-resnet50-balanced_s15795_masks.png is a low contrast image\n",
      "  return func(*args, **kwargs)\n"
     ]
    },
    {
     "name": "stdout",
     "output_type": "stream",
     "text": [
      "\u001b[33mSeed 15795 \u001b[1mFCN ResNet50\u001b[0m [35,309,898 parameters] \u001b[36m[01/30] \u001b[0m\u001b[32m\u001b[1mfetal us\u001b[0m\u001b[1m 0.200\u001b[0m                                                                                       "
     ]
    },
    {
     "name": "stderr",
     "output_type": "stream",
     "text": [
      "/home/yago/anaconda3/envs/fetal/lib/python3.10/site-packages/skimage/_shared/utils.py:328: UserWarning: ./data/Predictions/fcn-resnet50-balanced_s00860_masks.png is a low contrast image\n",
      "  return func(*args, **kwargs)\n",
      "/home/yago/anaconda3/envs/fetal/lib/python3.10/site-packages/skimage/_shared/utils.py:328: UserWarning: ./data/Predictions/fcn-resnet50-balanced_s00860_masks.png is a low contrast image\n",
      "  return func(*args, **kwargs)\n",
      "/home/yago/anaconda3/envs/fetal/lib/python3.10/site-packages/skimage/_shared/utils.py:328: UserWarning: ./data/Predictions/fcn-resnet50-balanced_s00860_masks.png is a low contrast image\n",
      "  return func(*args, **kwargs)\n",
      "/home/yago/anaconda3/envs/fetal/lib/python3.10/site-packages/skimage/_shared/utils.py:328: UserWarning: ./data/Predictions/fcn-resnet50-balanced_s00860_masks.png is a low contrast image\n",
      "  return func(*args, **kwargs)\n",
      "/home/yago/anaconda3/envs/fetal/lib/python3.10/site-packages/skimage/_shared/utils.py:328: UserWarning: ./data/Predictions/fcn-resnet50-balanced_s00860_masks.png is a low contrast image\n",
      "  return func(*args, **kwargs)\n",
      "/home/yago/anaconda3/envs/fetal/lib/python3.10/site-packages/skimage/_shared/utils.py:328: UserWarning: ./data/Predictions/fcn-resnet50-balanced_s00860_masks.png is a low contrast image\n",
      "  return func(*args, **kwargs)\n",
      "/home/yago/anaconda3/envs/fetal/lib/python3.10/site-packages/skimage/_shared/utils.py:328: UserWarning: ./data/Predictions/fcn-resnet50-balanced_s00860_masks.png is a low contrast image\n",
      "  return func(*args, **kwargs)\n"
     ]
    },
    {
     "name": "stdout",
     "output_type": "stream",
     "text": [
      "\u001b[K           Epoch num |  train  |   val   |   xent   |   dsc    |   mIoU   |  drp  |                                                                                                                  \n",
      "           ----------|---------|---------|----------|----------|----------|-------|\n"
     ]
    },
    {
     "ename": "OutOfMemoryError",
     "evalue": "CUDA out of memory. Tried to allocate 236.00 MiB. GPU 0 has a total capacity of 23.52 GiB of which 107.19 MiB is free. Including non-PyTorch memory, this process has 22.08 GiB memory in use. Of the allocated memory 21.52 GiB is allocated by PyTorch, and 125.60 MiB is reserved by PyTorch but unallocated. If reserved but unallocated memory is large try setting PYTORCH_CUDA_ALLOC_CONF=expandable_segments:True to avoid fragmentation.  See documentation for Memory Management  (https://pytorch.org/docs/stable/notes/cuda.html#environment-variables)",
     "output_type": "error",
     "traceback": [
      "\u001b[0;31m---------------------------------------------------------------------------\u001b[0m",
      "\u001b[0;31mFileNotFoundError\u001b[0m                         Traceback (most recent call last)",
      "Cell \u001b[0;32mIn[8], line 65\u001b[0m, in \u001b[0;36mrun_segmentation_experiments\u001b[0;34m(master_seed, network_name, display_name, experiment_name, network_f, training_data, testing_data, weight_path, maps_path, classes, epochs, patience, n_seeds, n_inputs, n_classes, train_batch, test_batch, saliency_batch, verbose)\u001b[0m\n\u001b[1;32m     64\u001b[0m \u001b[38;5;28;01mtry\u001b[39;00m:\n\u001b[0;32m---> 65\u001b[0m     \u001b[43mnet\u001b[49m\u001b[38;5;241;43m.\u001b[39;49m\u001b[43mload_model\u001b[49m\u001b[43m(\u001b[49m\u001b[43mmodel_path\u001b[49m\u001b[43m)\u001b[49m\n\u001b[1;32m     66\u001b[0m \u001b[38;5;28;01mexcept\u001b[39;00m \u001b[38;5;167;01mIOError\u001b[39;00m:\n",
      "File \u001b[0;32m~/experiments/fetal/base.py:522\u001b[0m, in \u001b[0;36mBaseModel.load_model\u001b[0;34m(self, net_name)\u001b[0m\n\u001b[1;32m    520\u001b[0m \u001b[38;5;28;01mdef\u001b[39;00m\u001b[38;5;250m \u001b[39m\u001b[38;5;21mload_model\u001b[39m(\u001b[38;5;28mself\u001b[39m, net_name):\n\u001b[1;32m    521\u001b[0m     \u001b[38;5;28mself\u001b[39m\u001b[38;5;241m.\u001b[39mload_state_dict(\n\u001b[0;32m--> 522\u001b[0m         \u001b[43mtorch\u001b[49m\u001b[38;5;241;43m.\u001b[39;49m\u001b[43mload\u001b[49m\u001b[43m(\u001b[49m\u001b[43mnet_name\u001b[49m\u001b[43m,\u001b[49m\u001b[43m \u001b[49m\u001b[43mmap_location\u001b[49m\u001b[38;5;241;43m=\u001b[39;49m\u001b[38;5;28;43mself\u001b[39;49m\u001b[38;5;241;43m.\u001b[39;49m\u001b[43mdevice\u001b[49m\u001b[43m)\u001b[49m,\n\u001b[1;32m    523\u001b[0m         strict\u001b[38;5;241m=\u001b[39m\u001b[38;5;28;01mTrue\u001b[39;00m\n\u001b[1;32m    524\u001b[0m     )\n",
      "File \u001b[0;32m~/anaconda3/envs/fetal/lib/python3.10/site-packages/torch/serialization.py:1479\u001b[0m, in \u001b[0;36mload\u001b[0;34m(f, map_location, pickle_module, weights_only, mmap, **pickle_load_args)\u001b[0m\n\u001b[1;32m   1477\u001b[0m     pickle_load_args[\u001b[38;5;124m\"\u001b[39m\u001b[38;5;124mencoding\u001b[39m\u001b[38;5;124m\"\u001b[39m] \u001b[38;5;241m=\u001b[39m \u001b[38;5;124m\"\u001b[39m\u001b[38;5;124mutf-8\u001b[39m\u001b[38;5;124m\"\u001b[39m\n\u001b[0;32m-> 1479\u001b[0m \u001b[38;5;28;01mwith\u001b[39;00m \u001b[43m_open_file_like\u001b[49m\u001b[43m(\u001b[49m\u001b[43mf\u001b[49m\u001b[43m,\u001b[49m\u001b[43m \u001b[49m\u001b[38;5;124;43m\"\u001b[39;49m\u001b[38;5;124;43mrb\u001b[39;49m\u001b[38;5;124;43m\"\u001b[39;49m\u001b[43m)\u001b[49m \u001b[38;5;28;01mas\u001b[39;00m opened_file:\n\u001b[1;32m   1480\u001b[0m     \u001b[38;5;28;01mif\u001b[39;00m _is_zipfile(opened_file):\n\u001b[1;32m   1481\u001b[0m         \u001b[38;5;66;03m# The zipfile reader is going to advance the current file position.\u001b[39;00m\n\u001b[1;32m   1482\u001b[0m         \u001b[38;5;66;03m# If we want to actually tail call to torch.jit.load, we need to\u001b[39;00m\n\u001b[1;32m   1483\u001b[0m         \u001b[38;5;66;03m# reset back to the original position.\u001b[39;00m\n",
      "File \u001b[0;32m~/anaconda3/envs/fetal/lib/python3.10/site-packages/torch/serialization.py:759\u001b[0m, in \u001b[0;36m_open_file_like\u001b[0;34m(name_or_buffer, mode)\u001b[0m\n\u001b[1;32m    758\u001b[0m \u001b[38;5;28;01mif\u001b[39;00m _is_path(name_or_buffer):\n\u001b[0;32m--> 759\u001b[0m     \u001b[38;5;28;01mreturn\u001b[39;00m \u001b[43m_open_file\u001b[49m\u001b[43m(\u001b[49m\u001b[43mname_or_buffer\u001b[49m\u001b[43m,\u001b[49m\u001b[43m \u001b[49m\u001b[43mmode\u001b[49m\u001b[43m)\u001b[49m\n\u001b[1;32m    760\u001b[0m \u001b[38;5;28;01melse\u001b[39;00m:\n",
      "File \u001b[0;32m~/anaconda3/envs/fetal/lib/python3.10/site-packages/torch/serialization.py:740\u001b[0m, in \u001b[0;36m_open_file.__init__\u001b[0;34m(self, name, mode)\u001b[0m\n\u001b[1;32m    739\u001b[0m \u001b[38;5;28;01mdef\u001b[39;00m\u001b[38;5;250m \u001b[39m\u001b[38;5;21m__init__\u001b[39m(\u001b[38;5;28mself\u001b[39m, name: Union[\u001b[38;5;28mstr\u001b[39m, os\u001b[38;5;241m.\u001b[39mPathLike[\u001b[38;5;28mstr\u001b[39m]], mode: \u001b[38;5;28mstr\u001b[39m) \u001b[38;5;241m-\u001b[39m\u001b[38;5;241m>\u001b[39m \u001b[38;5;28;01mNone\u001b[39;00m:\n\u001b[0;32m--> 740\u001b[0m     \u001b[38;5;28msuper\u001b[39m()\u001b[38;5;241m.\u001b[39m\u001b[38;5;21m__init__\u001b[39m(\u001b[38;5;28;43mopen\u001b[39;49m\u001b[43m(\u001b[49m\u001b[43mname\u001b[49m\u001b[43m,\u001b[49m\u001b[43m \u001b[49m\u001b[43mmode\u001b[49m\u001b[43m)\u001b[49m)\n",
      "\u001b[0;31mFileNotFoundError\u001b[0m: [Errno 2] No such file or directory: './data/Weights/fcn-resnet50-balanced_s76820_p.pt'",
      "\nDuring handling of the above exception, another exception occurred:\n",
      "\u001b[0;31mOutOfMemoryError\u001b[0m                          Traceback (most recent call last)",
      "Cell \u001b[0;32mIn[9], line 34\u001b[0m\n\u001b[1;32m     24\u001b[0m unet_dsc, unet_k_dsc \u001b[38;5;241m=\u001b[39m run_segmentation_experiments(\n\u001b[1;32m     25\u001b[0m     master_seed, \u001b[38;5;124m'\u001b[39m\u001b[38;5;124munet2d\u001b[39m\u001b[38;5;124m'\u001b[39m, \u001b[38;5;124m'\u001b[39m\u001b[38;5;124mUnet 2D\u001b[39m\u001b[38;5;124m'\u001b[39m, name,\n\u001b[1;32m     26\u001b[0m     partial(Unet2D, lr\u001b[38;5;241m=\u001b[39m\u001b[38;5;241m1e-4\u001b[39m, conv_filters\u001b[38;5;241m=\u001b[39m[\u001b[38;5;241m64\u001b[39m, \u001b[38;5;241m64\u001b[39m, \u001b[38;5;241m256\u001b[39m, \u001b[38;5;241m256\u001b[39m, \u001b[38;5;241m512\u001b[39m, \u001b[38;5;241m512\u001b[39m]),\n\u001b[0;32m   (...)\u001b[0m\n\u001b[1;32m     30\u001b[0m     train_batch\u001b[38;5;241m=\u001b[39mtrain_batch, test_batch\u001b[38;5;241m=\u001b[39mtest_batch, verbose\u001b[38;5;241m=\u001b[39m\u001b[38;5;241m1\u001b[39m\n\u001b[1;32m     31\u001b[0m )\n\u001b[1;32m     33\u001b[0m \u001b[38;5;66;03m# FCN ResNet50\u001b[39;00m\n\u001b[0;32m---> 34\u001b[0m fcn50_dsc, fcn50_k_dsc \u001b[38;5;241m=\u001b[39m \u001b[43mrun_segmentation_experiments\u001b[49m\u001b[43m(\u001b[49m\n\u001b[1;32m     35\u001b[0m \u001b[43m    \u001b[49m\u001b[43mmaster_seed\u001b[49m\u001b[43m,\u001b[49m\u001b[43m \u001b[49m\u001b[38;5;124;43m'\u001b[39;49m\u001b[38;5;124;43mfcn-resnet50\u001b[39;49m\u001b[38;5;124;43m'\u001b[39;49m\u001b[43m,\u001b[49m\u001b[43m \u001b[49m\u001b[38;5;124;43m'\u001b[39;49m\u001b[38;5;124;43mFCN ResNet50\u001b[39;49m\u001b[38;5;124;43m'\u001b[39;49m\u001b[43m,\u001b[49m\u001b[43m \u001b[49m\u001b[43mname\u001b[49m\u001b[43m,\u001b[49m\n\u001b[1;32m     36\u001b[0m \u001b[43m    \u001b[49m\u001b[43mpartial\u001b[49m\u001b[43m(\u001b[49m\u001b[43mFCN_ResNet50\u001b[49m\u001b[43m,\u001b[49m\u001b[43m \u001b[49m\u001b[43mlr\u001b[49m\u001b[38;5;241;43m=\u001b[39;49m\u001b[38;5;241;43m1e-4\u001b[39;49m\u001b[43m,\u001b[49m\u001b[43m \u001b[49m\u001b[43mpretrained\u001b[49m\u001b[38;5;241;43m=\u001b[39;49m\u001b[38;5;28;43;01mTrue\u001b[39;49;00m\u001b[43m)\u001b[49m\u001b[43m,\u001b[49m\n\u001b[1;32m     37\u001b[0m \u001b[43m    \u001b[49m\u001b[43mtraining_set\u001b[49m\u001b[43m,\u001b[49m\u001b[43m \u001b[49m\u001b[43mtesting_set\u001b[49m\u001b[43m,\u001b[49m\n\u001b[1;32m     38\u001b[0m \u001b[43m    \u001b[49m\u001b[43mos\u001b[49m\u001b[38;5;241;43m.\u001b[39;49m\u001b[43mpath\u001b[49m\u001b[38;5;241;43m.\u001b[39;49m\u001b[43mjoin\u001b[49m\u001b[43m(\u001b[49m\u001b[43md_path\u001b[49m\u001b[43m,\u001b[49m\u001b[43m \u001b[49m\u001b[38;5;124;43m'\u001b[39;49m\u001b[38;5;124;43mWeights\u001b[39;49m\u001b[38;5;124;43m'\u001b[39;49m\u001b[43m)\u001b[49m\u001b[43m,\u001b[49m\u001b[43m \u001b[49m\u001b[43mos\u001b[49m\u001b[38;5;241;43m.\u001b[39;49m\u001b[43mpath\u001b[49m\u001b[38;5;241;43m.\u001b[39;49m\u001b[43mjoin\u001b[49m\u001b[43m(\u001b[49m\u001b[43md_path\u001b[49m\u001b[43m,\u001b[49m\u001b[43m \u001b[49m\u001b[38;5;124;43m'\u001b[39;49m\u001b[38;5;124;43mPredictions\u001b[39;49m\u001b[38;5;124;43m'\u001b[39;49m\u001b[43m)\u001b[49m\u001b[43m,\u001b[49m\n\u001b[1;32m     39\u001b[0m \u001b[43m    \u001b[49m\u001b[43mclasses\u001b[49m\u001b[43m,\u001b[49m\u001b[43m \u001b[49m\u001b[43mn_inputs\u001b[49m\u001b[43m \u001b[49m\u001b[38;5;241;43m=\u001b[39;49m\u001b[43m \u001b[49m\u001b[38;5;241;43m3\u001b[39;49m\u001b[43m,\u001b[49m\u001b[43m \u001b[49m\u001b[43mn_classes\u001b[49m\u001b[43m \u001b[49m\u001b[38;5;241;43m=\u001b[39;49m\u001b[43m \u001b[49m\u001b[38;5;241;43m5\u001b[39;49m\u001b[43m,\u001b[49m\u001b[43m \u001b[49m\u001b[43mepochs\u001b[49m\u001b[38;5;241;43m=\u001b[39;49m\u001b[43mepochs\u001b[49m\u001b[43m,\u001b[49m\u001b[43m \u001b[49m\u001b[43mpatience\u001b[49m\u001b[38;5;241;43m=\u001b[39;49m\u001b[43mpatience\u001b[49m\u001b[43m,\u001b[49m\n\u001b[1;32m     40\u001b[0m \u001b[43m    \u001b[49m\u001b[43mtrain_batch\u001b[49m\u001b[38;5;241;43m=\u001b[39;49m\u001b[43mtrain_batch\u001b[49m\u001b[43m,\u001b[49m\u001b[43m \u001b[49m\u001b[43mtest_batch\u001b[49m\u001b[38;5;241;43m=\u001b[39;49m\u001b[43mtest_batch\u001b[49m\u001b[43m,\u001b[49m\u001b[43m \u001b[49m\u001b[43mverbose\u001b[49m\u001b[38;5;241;43m=\u001b[39;49m\u001b[38;5;241;43m1\u001b[39;49m\n\u001b[1;32m     41\u001b[0m \u001b[43m)\u001b[49m\n\u001b[1;32m     43\u001b[0m \u001b[38;5;66;03m# FCN ResNet101\u001b[39;00m\n\u001b[1;32m     44\u001b[0m fcn101_dsc, fcn101_k_dsc \u001b[38;5;241m=\u001b[39m run_segmentation_experiments(\n\u001b[1;32m     45\u001b[0m     master_seed, \u001b[38;5;124m'\u001b[39m\u001b[38;5;124mfcn-resnet101\u001b[39m\u001b[38;5;124m'\u001b[39m, \u001b[38;5;124m'\u001b[39m\u001b[38;5;124mFCN ResNet101\u001b[39m\u001b[38;5;124m'\u001b[39m, name,\n\u001b[1;32m     46\u001b[0m     partial(FCN_ResNet101, lr\u001b[38;5;241m=\u001b[39m\u001b[38;5;241m1e-4\u001b[39m, pretrained\u001b[38;5;241m=\u001b[39m\u001b[38;5;28;01mTrue\u001b[39;00m),\n\u001b[0;32m   (...)\u001b[0m\n\u001b[1;32m     50\u001b[0m     train_batch\u001b[38;5;241m=\u001b[39mtrain_batch, test_batch\u001b[38;5;241m=\u001b[39mtest_batch, verbose\u001b[38;5;241m=\u001b[39m\u001b[38;5;241m1\u001b[39m\n\u001b[1;32m     51\u001b[0m )\n",
      "Cell \u001b[0;32mIn[8], line 69\u001b[0m, in \u001b[0;36mrun_segmentation_experiments\u001b[0;34m(master_seed, network_name, display_name, experiment_name, network_f, training_data, testing_data, weight_path, maps_path, classes, epochs, patience, n_seeds, n_inputs, n_classes, train_batch, test_batch, saliency_batch, verbose)\u001b[0m\n\u001b[1;32m     67\u001b[0m     net\u001b[38;5;241m.\u001b[39mtrain()\n\u001b[1;32m     68\u001b[0m     \u001b[38;5;28mprint\u001b[39m(\u001b[38;5;124m'\u001b[39m\u001b[38;5;124m'\u001b[39m\u001b[38;5;241m.\u001b[39mjoin([\u001b[38;5;124m'\u001b[39m\u001b[38;5;124m \u001b[39m\u001b[38;5;124m'\u001b[39m] \u001b[38;5;241m*\u001b[39m \u001b[38;5;241m200\u001b[39m), end\u001b[38;5;241m=\u001b[39m\u001b[38;5;124m'\u001b[39m\u001b[38;5;130;01m\\r\u001b[39;00m\u001b[38;5;124m'\u001b[39m)\n\u001b[0;32m---> 69\u001b[0m     \u001b[43mnet\u001b[49m\u001b[38;5;241;43m.\u001b[39;49m\u001b[43mfit\u001b[49m\u001b[43m(\u001b[49m\u001b[43mtraining_loader\u001b[49m\u001b[43m,\u001b[49m\u001b[43m \u001b[49m\u001b[43mvalidation_loader\u001b[49m\u001b[43m,\u001b[49m\u001b[43m \u001b[49m\u001b[43mepochs\u001b[49m\u001b[38;5;241;43m=\u001b[39;49m\u001b[43mepochs\u001b[49m\u001b[43m,\u001b[49m\u001b[43m \u001b[49m\u001b[43mpatience\u001b[49m\u001b[38;5;241;43m=\u001b[39;49m\u001b[43mpatience\u001b[49m\u001b[43m)\u001b[49m\n\u001b[1;32m     70\u001b[0m     net\u001b[38;5;241m.\u001b[39msave_model(model_path)\n\u001b[1;32m     72\u001b[0m \u001b[38;5;28;01mif\u001b[39;00m verbose \u001b[38;5;241m>\u001b[39m \u001b[38;5;241m2\u001b[39m:\n",
      "File \u001b[0;32m~/experiments/fetal/base.py:282\u001b[0m, in \u001b[0;36mBaseModel.fit\u001b[0;34m(self, train_loader, val_loader, epochs, patience, verbose)\u001b[0m\n\u001b[1;32m    280\u001b[0m \u001b[38;5;28mself\u001b[39m\u001b[38;5;241m.\u001b[39mtrain()\n\u001b[1;32m    281\u001b[0m \u001b[38;5;66;03m# First we train and check if there has been an improvement.\u001b[39;00m\n\u001b[0;32m--> 282\u001b[0m loss_tr \u001b[38;5;241m=\u001b[39m \u001b[38;5;28;43mself\u001b[39;49m\u001b[38;5;241;43m.\u001b[39;49m\u001b[43mmini_batch_loop\u001b[49m\u001b[43m(\u001b[49m\u001b[43mtrain_loader\u001b[49m\u001b[43m)\u001b[49m\n\u001b[1;32m    283\u001b[0m improvement_tr \u001b[38;5;241m=\u001b[39m \u001b[38;5;28mself\u001b[39m\u001b[38;5;241m.\u001b[39mbest_loss_tr \u001b[38;5;241m>\u001b[39m loss_tr\n\u001b[1;32m    284\u001b[0m \u001b[38;5;28;01mif\u001b[39;00m improvement_tr:\n",
      "File \u001b[0;32m~/experiments/fetal/base.py:118\u001b[0m, in \u001b[0;36mBaseModel.mini_batch_loop\u001b[0;34m(self, data, train)\u001b[0m\n\u001b[1;32m    115\u001b[0m     \u001b[38;5;28mself\u001b[39m\u001b[38;5;241m.\u001b[39moptimizer_alg\u001b[38;5;241m.\u001b[39mzero_grad()\n\u001b[1;32m    117\u001b[0m \u001b[38;5;66;03m# First, we do a forward pass through the network.\u001b[39;00m\n\u001b[0;32m--> 118\u001b[0m pred_labels, x_cuda, y_cuda \u001b[38;5;241m=\u001b[39m \u001b[38;5;28;43mself\u001b[39;49m\u001b[38;5;241;43m.\u001b[39;49m\u001b[43mobserve\u001b[49m\u001b[43m(\u001b[49m\u001b[43mx\u001b[49m\u001b[43m,\u001b[49m\u001b[43m \u001b[49m\u001b[43my\u001b[49m\u001b[43m)\u001b[49m\n\u001b[1;32m    120\u001b[0m \u001b[38;5;66;03m# After that, we can compute the relevant losses.\u001b[39;00m\n\u001b[1;32m    121\u001b[0m \u001b[38;5;28;01mif\u001b[39;00m train:\n\u001b[1;32m    122\u001b[0m     \u001b[38;5;66;03m# Training losses (applied to the training data)\u001b[39;00m\n",
      "File \u001b[0;32m~/experiments/fetal/base.py:81\u001b[0m, in \u001b[0;36mBaseModel.observe\u001b[0;34m(self, x, y)\u001b[0m\n\u001b[1;32m     79\u001b[0m \u001b[38;5;28;01melse\u001b[39;00m:\n\u001b[1;32m     80\u001b[0m     x_cuda \u001b[38;5;241m=\u001b[39m x\u001b[38;5;241m.\u001b[39mto(\u001b[38;5;28mself\u001b[39m\u001b[38;5;241m.\u001b[39mdevice)\n\u001b[0;32m---> 81\u001b[0m     pred_labels \u001b[38;5;241m=\u001b[39m \u001b[38;5;28;43mself\u001b[39;49m\u001b[43m(\u001b[49m\u001b[43mx_cuda\u001b[49m\u001b[43m)\u001b[49m\n\u001b[1;32m     82\u001b[0m \u001b[38;5;28;01mif\u001b[39;00m \u001b[38;5;28misinstance\u001b[39m(y, \u001b[38;5;28mlist\u001b[39m) \u001b[38;5;129;01mor\u001b[39;00m \u001b[38;5;28misinstance\u001b[39m(y, \u001b[38;5;28mtuple\u001b[39m):\n\u001b[1;32m     83\u001b[0m     y_cuda \u001b[38;5;241m=\u001b[39m \u001b[38;5;28mtuple\u001b[39m(y_i\u001b[38;5;241m.\u001b[39mto(\u001b[38;5;28mself\u001b[39m\u001b[38;5;241m.\u001b[39mdevice) \u001b[38;5;28;01mfor\u001b[39;00m y_i \u001b[38;5;129;01min\u001b[39;00m y)\n",
      "File \u001b[0;32m~/anaconda3/envs/fetal/lib/python3.10/site-packages/torch/nn/modules/module.py:1751\u001b[0m, in \u001b[0;36mModule._wrapped_call_impl\u001b[0;34m(self, *args, **kwargs)\u001b[0m\n\u001b[1;32m   1749\u001b[0m     \u001b[38;5;28;01mreturn\u001b[39;00m \u001b[38;5;28mself\u001b[39m\u001b[38;5;241m.\u001b[39m_compiled_call_impl(\u001b[38;5;241m*\u001b[39margs, \u001b[38;5;241m*\u001b[39m\u001b[38;5;241m*\u001b[39mkwargs)  \u001b[38;5;66;03m# type: ignore[misc]\u001b[39;00m\n\u001b[1;32m   1750\u001b[0m \u001b[38;5;28;01melse\u001b[39;00m:\n\u001b[0;32m-> 1751\u001b[0m     \u001b[38;5;28;01mreturn\u001b[39;00m \u001b[38;5;28;43mself\u001b[39;49m\u001b[38;5;241;43m.\u001b[39;49m\u001b[43m_call_impl\u001b[49m\u001b[43m(\u001b[49m\u001b[38;5;241;43m*\u001b[39;49m\u001b[43margs\u001b[49m\u001b[43m,\u001b[49m\u001b[43m \u001b[49m\u001b[38;5;241;43m*\u001b[39;49m\u001b[38;5;241;43m*\u001b[39;49m\u001b[43mkwargs\u001b[49m\u001b[43m)\u001b[49m\n",
      "File \u001b[0;32m~/anaconda3/envs/fetal/lib/python3.10/site-packages/torch/nn/modules/module.py:1762\u001b[0m, in \u001b[0;36mModule._call_impl\u001b[0;34m(self, *args, **kwargs)\u001b[0m\n\u001b[1;32m   1757\u001b[0m \u001b[38;5;66;03m# If we don't have any hooks, we want to skip the rest of the logic in\u001b[39;00m\n\u001b[1;32m   1758\u001b[0m \u001b[38;5;66;03m# this function, and just call forward.\u001b[39;00m\n\u001b[1;32m   1759\u001b[0m \u001b[38;5;28;01mif\u001b[39;00m \u001b[38;5;129;01mnot\u001b[39;00m (\u001b[38;5;28mself\u001b[39m\u001b[38;5;241m.\u001b[39m_backward_hooks \u001b[38;5;129;01mor\u001b[39;00m \u001b[38;5;28mself\u001b[39m\u001b[38;5;241m.\u001b[39m_backward_pre_hooks \u001b[38;5;129;01mor\u001b[39;00m \u001b[38;5;28mself\u001b[39m\u001b[38;5;241m.\u001b[39m_forward_hooks \u001b[38;5;129;01mor\u001b[39;00m \u001b[38;5;28mself\u001b[39m\u001b[38;5;241m.\u001b[39m_forward_pre_hooks\n\u001b[1;32m   1760\u001b[0m         \u001b[38;5;129;01mor\u001b[39;00m _global_backward_pre_hooks \u001b[38;5;129;01mor\u001b[39;00m _global_backward_hooks\n\u001b[1;32m   1761\u001b[0m         \u001b[38;5;129;01mor\u001b[39;00m _global_forward_hooks \u001b[38;5;129;01mor\u001b[39;00m _global_forward_pre_hooks):\n\u001b[0;32m-> 1762\u001b[0m     \u001b[38;5;28;01mreturn\u001b[39;00m \u001b[43mforward_call\u001b[49m\u001b[43m(\u001b[49m\u001b[38;5;241;43m*\u001b[39;49m\u001b[43margs\u001b[49m\u001b[43m,\u001b[49m\u001b[43m \u001b[49m\u001b[38;5;241;43m*\u001b[39;49m\u001b[38;5;241;43m*\u001b[39;49m\u001b[43mkwargs\u001b[49m\u001b[43m)\u001b[49m\n\u001b[1;32m   1764\u001b[0m result \u001b[38;5;241m=\u001b[39m \u001b[38;5;28;01mNone\u001b[39;00m\n\u001b[1;32m   1765\u001b[0m called_always_called_hooks \u001b[38;5;241m=\u001b[39m \u001b[38;5;28mset\u001b[39m()\n",
      "File \u001b[0;32m~/experiments/fetal/models.py:619\u001b[0m, in \u001b[0;36mFCN_ResNet50.forward\u001b[0;34m(self, data)\u001b[0m\n\u001b[1;32m    617\u001b[0m \u001b[38;5;28;01mdef\u001b[39;00m\u001b[38;5;250m \u001b[39m\u001b[38;5;21mforward\u001b[39m(\u001b[38;5;28mself\u001b[39m, data):\n\u001b[1;32m    618\u001b[0m     \u001b[38;5;28mself\u001b[39m\u001b[38;5;241m.\u001b[39mfcn\u001b[38;5;241m.\u001b[39mto(\u001b[38;5;28mself\u001b[39m\u001b[38;5;241m.\u001b[39mdevice)\n\u001b[0;32m--> 619\u001b[0m     \u001b[38;5;28;01mreturn\u001b[39;00m \u001b[38;5;28;43mself\u001b[39;49m\u001b[38;5;241;43m.\u001b[39;49m\u001b[43mfcn\u001b[49m\u001b[43m(\u001b[49m\u001b[43mdata\u001b[49m\u001b[43m)\u001b[49m[\u001b[38;5;124m'\u001b[39m\u001b[38;5;124mout\u001b[39m\u001b[38;5;124m'\u001b[39m]\n",
      "File \u001b[0;32m~/anaconda3/envs/fetal/lib/python3.10/site-packages/torch/nn/modules/module.py:1751\u001b[0m, in \u001b[0;36mModule._wrapped_call_impl\u001b[0;34m(self, *args, **kwargs)\u001b[0m\n\u001b[1;32m   1749\u001b[0m     \u001b[38;5;28;01mreturn\u001b[39;00m \u001b[38;5;28mself\u001b[39m\u001b[38;5;241m.\u001b[39m_compiled_call_impl(\u001b[38;5;241m*\u001b[39margs, \u001b[38;5;241m*\u001b[39m\u001b[38;5;241m*\u001b[39mkwargs)  \u001b[38;5;66;03m# type: ignore[misc]\u001b[39;00m\n\u001b[1;32m   1750\u001b[0m \u001b[38;5;28;01melse\u001b[39;00m:\n\u001b[0;32m-> 1751\u001b[0m     \u001b[38;5;28;01mreturn\u001b[39;00m \u001b[38;5;28;43mself\u001b[39;49m\u001b[38;5;241;43m.\u001b[39;49m\u001b[43m_call_impl\u001b[49m\u001b[43m(\u001b[49m\u001b[38;5;241;43m*\u001b[39;49m\u001b[43margs\u001b[49m\u001b[43m,\u001b[49m\u001b[43m \u001b[49m\u001b[38;5;241;43m*\u001b[39;49m\u001b[38;5;241;43m*\u001b[39;49m\u001b[43mkwargs\u001b[49m\u001b[43m)\u001b[49m\n",
      "File \u001b[0;32m~/anaconda3/envs/fetal/lib/python3.10/site-packages/torch/nn/modules/module.py:1762\u001b[0m, in \u001b[0;36mModule._call_impl\u001b[0;34m(self, *args, **kwargs)\u001b[0m\n\u001b[1;32m   1757\u001b[0m \u001b[38;5;66;03m# If we don't have any hooks, we want to skip the rest of the logic in\u001b[39;00m\n\u001b[1;32m   1758\u001b[0m \u001b[38;5;66;03m# this function, and just call forward.\u001b[39;00m\n\u001b[1;32m   1759\u001b[0m \u001b[38;5;28;01mif\u001b[39;00m \u001b[38;5;129;01mnot\u001b[39;00m (\u001b[38;5;28mself\u001b[39m\u001b[38;5;241m.\u001b[39m_backward_hooks \u001b[38;5;129;01mor\u001b[39;00m \u001b[38;5;28mself\u001b[39m\u001b[38;5;241m.\u001b[39m_backward_pre_hooks \u001b[38;5;129;01mor\u001b[39;00m \u001b[38;5;28mself\u001b[39m\u001b[38;5;241m.\u001b[39m_forward_hooks \u001b[38;5;129;01mor\u001b[39;00m \u001b[38;5;28mself\u001b[39m\u001b[38;5;241m.\u001b[39m_forward_pre_hooks\n\u001b[1;32m   1760\u001b[0m         \u001b[38;5;129;01mor\u001b[39;00m _global_backward_pre_hooks \u001b[38;5;129;01mor\u001b[39;00m _global_backward_hooks\n\u001b[1;32m   1761\u001b[0m         \u001b[38;5;129;01mor\u001b[39;00m _global_forward_hooks \u001b[38;5;129;01mor\u001b[39;00m _global_forward_pre_hooks):\n\u001b[0;32m-> 1762\u001b[0m     \u001b[38;5;28;01mreturn\u001b[39;00m \u001b[43mforward_call\u001b[49m\u001b[43m(\u001b[49m\u001b[38;5;241;43m*\u001b[39;49m\u001b[43margs\u001b[49m\u001b[43m,\u001b[49m\u001b[43m \u001b[49m\u001b[38;5;241;43m*\u001b[39;49m\u001b[38;5;241;43m*\u001b[39;49m\u001b[43mkwargs\u001b[49m\u001b[43m)\u001b[49m\n\u001b[1;32m   1764\u001b[0m result \u001b[38;5;241m=\u001b[39m \u001b[38;5;28;01mNone\u001b[39;00m\n\u001b[1;32m   1765\u001b[0m called_always_called_hooks \u001b[38;5;241m=\u001b[39m \u001b[38;5;28mset\u001b[39m()\n",
      "File \u001b[0;32m~/anaconda3/envs/fetal/lib/python3.10/site-packages/torchvision/models/segmentation/_utils.py:23\u001b[0m, in \u001b[0;36m_SimpleSegmentationModel.forward\u001b[0;34m(self, x)\u001b[0m\n\u001b[1;32m     21\u001b[0m input_shape \u001b[38;5;241m=\u001b[39m x\u001b[38;5;241m.\u001b[39mshape[\u001b[38;5;241m-\u001b[39m\u001b[38;5;241m2\u001b[39m:]\n\u001b[1;32m     22\u001b[0m \u001b[38;5;66;03m# contract: features is a dict of tensors\u001b[39;00m\n\u001b[0;32m---> 23\u001b[0m features \u001b[38;5;241m=\u001b[39m \u001b[38;5;28;43mself\u001b[39;49m\u001b[38;5;241;43m.\u001b[39;49m\u001b[43mbackbone\u001b[49m\u001b[43m(\u001b[49m\u001b[43mx\u001b[49m\u001b[43m)\u001b[49m\n\u001b[1;32m     25\u001b[0m result \u001b[38;5;241m=\u001b[39m OrderedDict()\n\u001b[1;32m     26\u001b[0m x \u001b[38;5;241m=\u001b[39m features[\u001b[38;5;124m\"\u001b[39m\u001b[38;5;124mout\u001b[39m\u001b[38;5;124m\"\u001b[39m]\n",
      "File \u001b[0;32m~/anaconda3/envs/fetal/lib/python3.10/site-packages/torch/nn/modules/module.py:1751\u001b[0m, in \u001b[0;36mModule._wrapped_call_impl\u001b[0;34m(self, *args, **kwargs)\u001b[0m\n\u001b[1;32m   1749\u001b[0m     \u001b[38;5;28;01mreturn\u001b[39;00m \u001b[38;5;28mself\u001b[39m\u001b[38;5;241m.\u001b[39m_compiled_call_impl(\u001b[38;5;241m*\u001b[39margs, \u001b[38;5;241m*\u001b[39m\u001b[38;5;241m*\u001b[39mkwargs)  \u001b[38;5;66;03m# type: ignore[misc]\u001b[39;00m\n\u001b[1;32m   1750\u001b[0m \u001b[38;5;28;01melse\u001b[39;00m:\n\u001b[0;32m-> 1751\u001b[0m     \u001b[38;5;28;01mreturn\u001b[39;00m \u001b[38;5;28;43mself\u001b[39;49m\u001b[38;5;241;43m.\u001b[39;49m\u001b[43m_call_impl\u001b[49m\u001b[43m(\u001b[49m\u001b[38;5;241;43m*\u001b[39;49m\u001b[43margs\u001b[49m\u001b[43m,\u001b[49m\u001b[43m \u001b[49m\u001b[38;5;241;43m*\u001b[39;49m\u001b[38;5;241;43m*\u001b[39;49m\u001b[43mkwargs\u001b[49m\u001b[43m)\u001b[49m\n",
      "File \u001b[0;32m~/anaconda3/envs/fetal/lib/python3.10/site-packages/torch/nn/modules/module.py:1762\u001b[0m, in \u001b[0;36mModule._call_impl\u001b[0;34m(self, *args, **kwargs)\u001b[0m\n\u001b[1;32m   1757\u001b[0m \u001b[38;5;66;03m# If we don't have any hooks, we want to skip the rest of the logic in\u001b[39;00m\n\u001b[1;32m   1758\u001b[0m \u001b[38;5;66;03m# this function, and just call forward.\u001b[39;00m\n\u001b[1;32m   1759\u001b[0m \u001b[38;5;28;01mif\u001b[39;00m \u001b[38;5;129;01mnot\u001b[39;00m (\u001b[38;5;28mself\u001b[39m\u001b[38;5;241m.\u001b[39m_backward_hooks \u001b[38;5;129;01mor\u001b[39;00m \u001b[38;5;28mself\u001b[39m\u001b[38;5;241m.\u001b[39m_backward_pre_hooks \u001b[38;5;129;01mor\u001b[39;00m \u001b[38;5;28mself\u001b[39m\u001b[38;5;241m.\u001b[39m_forward_hooks \u001b[38;5;129;01mor\u001b[39;00m \u001b[38;5;28mself\u001b[39m\u001b[38;5;241m.\u001b[39m_forward_pre_hooks\n\u001b[1;32m   1760\u001b[0m         \u001b[38;5;129;01mor\u001b[39;00m _global_backward_pre_hooks \u001b[38;5;129;01mor\u001b[39;00m _global_backward_hooks\n\u001b[1;32m   1761\u001b[0m         \u001b[38;5;129;01mor\u001b[39;00m _global_forward_hooks \u001b[38;5;129;01mor\u001b[39;00m _global_forward_pre_hooks):\n\u001b[0;32m-> 1762\u001b[0m     \u001b[38;5;28;01mreturn\u001b[39;00m \u001b[43mforward_call\u001b[49m\u001b[43m(\u001b[49m\u001b[38;5;241;43m*\u001b[39;49m\u001b[43margs\u001b[49m\u001b[43m,\u001b[49m\u001b[43m \u001b[49m\u001b[38;5;241;43m*\u001b[39;49m\u001b[38;5;241;43m*\u001b[39;49m\u001b[43mkwargs\u001b[49m\u001b[43m)\u001b[49m\n\u001b[1;32m   1764\u001b[0m result \u001b[38;5;241m=\u001b[39m \u001b[38;5;28;01mNone\u001b[39;00m\n\u001b[1;32m   1765\u001b[0m called_always_called_hooks \u001b[38;5;241m=\u001b[39m \u001b[38;5;28mset\u001b[39m()\n",
      "File \u001b[0;32m~/anaconda3/envs/fetal/lib/python3.10/site-packages/torchvision/models/_utils.py:69\u001b[0m, in \u001b[0;36mIntermediateLayerGetter.forward\u001b[0;34m(self, x)\u001b[0m\n\u001b[1;32m     67\u001b[0m out \u001b[38;5;241m=\u001b[39m OrderedDict()\n\u001b[1;32m     68\u001b[0m \u001b[38;5;28;01mfor\u001b[39;00m name, module \u001b[38;5;129;01min\u001b[39;00m \u001b[38;5;28mself\u001b[39m\u001b[38;5;241m.\u001b[39mitems():\n\u001b[0;32m---> 69\u001b[0m     x \u001b[38;5;241m=\u001b[39m \u001b[43mmodule\u001b[49m\u001b[43m(\u001b[49m\u001b[43mx\u001b[49m\u001b[43m)\u001b[49m\n\u001b[1;32m     70\u001b[0m     \u001b[38;5;28;01mif\u001b[39;00m name \u001b[38;5;129;01min\u001b[39;00m \u001b[38;5;28mself\u001b[39m\u001b[38;5;241m.\u001b[39mreturn_layers:\n\u001b[1;32m     71\u001b[0m         out_name \u001b[38;5;241m=\u001b[39m \u001b[38;5;28mself\u001b[39m\u001b[38;5;241m.\u001b[39mreturn_layers[name]\n",
      "File \u001b[0;32m~/anaconda3/envs/fetal/lib/python3.10/site-packages/torch/nn/modules/module.py:1751\u001b[0m, in \u001b[0;36mModule._wrapped_call_impl\u001b[0;34m(self, *args, **kwargs)\u001b[0m\n\u001b[1;32m   1749\u001b[0m     \u001b[38;5;28;01mreturn\u001b[39;00m \u001b[38;5;28mself\u001b[39m\u001b[38;5;241m.\u001b[39m_compiled_call_impl(\u001b[38;5;241m*\u001b[39margs, \u001b[38;5;241m*\u001b[39m\u001b[38;5;241m*\u001b[39mkwargs)  \u001b[38;5;66;03m# type: ignore[misc]\u001b[39;00m\n\u001b[1;32m   1750\u001b[0m \u001b[38;5;28;01melse\u001b[39;00m:\n\u001b[0;32m-> 1751\u001b[0m     \u001b[38;5;28;01mreturn\u001b[39;00m \u001b[38;5;28;43mself\u001b[39;49m\u001b[38;5;241;43m.\u001b[39;49m\u001b[43m_call_impl\u001b[49m\u001b[43m(\u001b[49m\u001b[38;5;241;43m*\u001b[39;49m\u001b[43margs\u001b[49m\u001b[43m,\u001b[49m\u001b[43m \u001b[49m\u001b[38;5;241;43m*\u001b[39;49m\u001b[38;5;241;43m*\u001b[39;49m\u001b[43mkwargs\u001b[49m\u001b[43m)\u001b[49m\n",
      "File \u001b[0;32m~/anaconda3/envs/fetal/lib/python3.10/site-packages/torch/nn/modules/module.py:1762\u001b[0m, in \u001b[0;36mModule._call_impl\u001b[0;34m(self, *args, **kwargs)\u001b[0m\n\u001b[1;32m   1757\u001b[0m \u001b[38;5;66;03m# If we don't have any hooks, we want to skip the rest of the logic in\u001b[39;00m\n\u001b[1;32m   1758\u001b[0m \u001b[38;5;66;03m# this function, and just call forward.\u001b[39;00m\n\u001b[1;32m   1759\u001b[0m \u001b[38;5;28;01mif\u001b[39;00m \u001b[38;5;129;01mnot\u001b[39;00m (\u001b[38;5;28mself\u001b[39m\u001b[38;5;241m.\u001b[39m_backward_hooks \u001b[38;5;129;01mor\u001b[39;00m \u001b[38;5;28mself\u001b[39m\u001b[38;5;241m.\u001b[39m_backward_pre_hooks \u001b[38;5;129;01mor\u001b[39;00m \u001b[38;5;28mself\u001b[39m\u001b[38;5;241m.\u001b[39m_forward_hooks \u001b[38;5;129;01mor\u001b[39;00m \u001b[38;5;28mself\u001b[39m\u001b[38;5;241m.\u001b[39m_forward_pre_hooks\n\u001b[1;32m   1760\u001b[0m         \u001b[38;5;129;01mor\u001b[39;00m _global_backward_pre_hooks \u001b[38;5;129;01mor\u001b[39;00m _global_backward_hooks\n\u001b[1;32m   1761\u001b[0m         \u001b[38;5;129;01mor\u001b[39;00m _global_forward_hooks \u001b[38;5;129;01mor\u001b[39;00m _global_forward_pre_hooks):\n\u001b[0;32m-> 1762\u001b[0m     \u001b[38;5;28;01mreturn\u001b[39;00m \u001b[43mforward_call\u001b[49m\u001b[43m(\u001b[49m\u001b[38;5;241;43m*\u001b[39;49m\u001b[43margs\u001b[49m\u001b[43m,\u001b[49m\u001b[43m \u001b[49m\u001b[38;5;241;43m*\u001b[39;49m\u001b[38;5;241;43m*\u001b[39;49m\u001b[43mkwargs\u001b[49m\u001b[43m)\u001b[49m\n\u001b[1;32m   1764\u001b[0m result \u001b[38;5;241m=\u001b[39m \u001b[38;5;28;01mNone\u001b[39;00m\n\u001b[1;32m   1765\u001b[0m called_always_called_hooks \u001b[38;5;241m=\u001b[39m \u001b[38;5;28mset\u001b[39m()\n",
      "File \u001b[0;32m~/anaconda3/envs/fetal/lib/python3.10/site-packages/torch/nn/modules/container.py:240\u001b[0m, in \u001b[0;36mSequential.forward\u001b[0;34m(self, input)\u001b[0m\n\u001b[1;32m    238\u001b[0m \u001b[38;5;28;01mdef\u001b[39;00m\u001b[38;5;250m \u001b[39m\u001b[38;5;21mforward\u001b[39m(\u001b[38;5;28mself\u001b[39m, \u001b[38;5;28minput\u001b[39m):\n\u001b[1;32m    239\u001b[0m     \u001b[38;5;28;01mfor\u001b[39;00m module \u001b[38;5;129;01min\u001b[39;00m \u001b[38;5;28mself\u001b[39m:\n\u001b[0;32m--> 240\u001b[0m         \u001b[38;5;28minput\u001b[39m \u001b[38;5;241m=\u001b[39m \u001b[43mmodule\u001b[49m\u001b[43m(\u001b[49m\u001b[38;5;28;43minput\u001b[39;49m\u001b[43m)\u001b[49m\n\u001b[1;32m    241\u001b[0m     \u001b[38;5;28;01mreturn\u001b[39;00m \u001b[38;5;28minput\u001b[39m\n",
      "File \u001b[0;32m~/anaconda3/envs/fetal/lib/python3.10/site-packages/torch/nn/modules/module.py:1751\u001b[0m, in \u001b[0;36mModule._wrapped_call_impl\u001b[0;34m(self, *args, **kwargs)\u001b[0m\n\u001b[1;32m   1749\u001b[0m     \u001b[38;5;28;01mreturn\u001b[39;00m \u001b[38;5;28mself\u001b[39m\u001b[38;5;241m.\u001b[39m_compiled_call_impl(\u001b[38;5;241m*\u001b[39margs, \u001b[38;5;241m*\u001b[39m\u001b[38;5;241m*\u001b[39mkwargs)  \u001b[38;5;66;03m# type: ignore[misc]\u001b[39;00m\n\u001b[1;32m   1750\u001b[0m \u001b[38;5;28;01melse\u001b[39;00m:\n\u001b[0;32m-> 1751\u001b[0m     \u001b[38;5;28;01mreturn\u001b[39;00m \u001b[38;5;28;43mself\u001b[39;49m\u001b[38;5;241;43m.\u001b[39;49m\u001b[43m_call_impl\u001b[49m\u001b[43m(\u001b[49m\u001b[38;5;241;43m*\u001b[39;49m\u001b[43margs\u001b[49m\u001b[43m,\u001b[49m\u001b[43m \u001b[49m\u001b[38;5;241;43m*\u001b[39;49m\u001b[38;5;241;43m*\u001b[39;49m\u001b[43mkwargs\u001b[49m\u001b[43m)\u001b[49m\n",
      "File \u001b[0;32m~/anaconda3/envs/fetal/lib/python3.10/site-packages/torch/nn/modules/module.py:1762\u001b[0m, in \u001b[0;36mModule._call_impl\u001b[0;34m(self, *args, **kwargs)\u001b[0m\n\u001b[1;32m   1757\u001b[0m \u001b[38;5;66;03m# If we don't have any hooks, we want to skip the rest of the logic in\u001b[39;00m\n\u001b[1;32m   1758\u001b[0m \u001b[38;5;66;03m# this function, and just call forward.\u001b[39;00m\n\u001b[1;32m   1759\u001b[0m \u001b[38;5;28;01mif\u001b[39;00m \u001b[38;5;129;01mnot\u001b[39;00m (\u001b[38;5;28mself\u001b[39m\u001b[38;5;241m.\u001b[39m_backward_hooks \u001b[38;5;129;01mor\u001b[39;00m \u001b[38;5;28mself\u001b[39m\u001b[38;5;241m.\u001b[39m_backward_pre_hooks \u001b[38;5;129;01mor\u001b[39;00m \u001b[38;5;28mself\u001b[39m\u001b[38;5;241m.\u001b[39m_forward_hooks \u001b[38;5;129;01mor\u001b[39;00m \u001b[38;5;28mself\u001b[39m\u001b[38;5;241m.\u001b[39m_forward_pre_hooks\n\u001b[1;32m   1760\u001b[0m         \u001b[38;5;129;01mor\u001b[39;00m _global_backward_pre_hooks \u001b[38;5;129;01mor\u001b[39;00m _global_backward_hooks\n\u001b[1;32m   1761\u001b[0m         \u001b[38;5;129;01mor\u001b[39;00m _global_forward_hooks \u001b[38;5;129;01mor\u001b[39;00m _global_forward_pre_hooks):\n\u001b[0;32m-> 1762\u001b[0m     \u001b[38;5;28;01mreturn\u001b[39;00m \u001b[43mforward_call\u001b[49m\u001b[43m(\u001b[49m\u001b[38;5;241;43m*\u001b[39;49m\u001b[43margs\u001b[49m\u001b[43m,\u001b[49m\u001b[43m \u001b[49m\u001b[38;5;241;43m*\u001b[39;49m\u001b[38;5;241;43m*\u001b[39;49m\u001b[43mkwargs\u001b[49m\u001b[43m)\u001b[49m\n\u001b[1;32m   1764\u001b[0m result \u001b[38;5;241m=\u001b[39m \u001b[38;5;28;01mNone\u001b[39;00m\n\u001b[1;32m   1765\u001b[0m called_always_called_hooks \u001b[38;5;241m=\u001b[39m \u001b[38;5;28mset\u001b[39m()\n",
      "File \u001b[0;32m~/anaconda3/envs/fetal/lib/python3.10/site-packages/torchvision/models/resnet.py:158\u001b[0m, in \u001b[0;36mBottleneck.forward\u001b[0;34m(self, x)\u001b[0m\n\u001b[1;32m    155\u001b[0m out \u001b[38;5;241m=\u001b[39m \u001b[38;5;28mself\u001b[39m\u001b[38;5;241m.\u001b[39mbn3(out)\n\u001b[1;32m    157\u001b[0m \u001b[38;5;28;01mif\u001b[39;00m \u001b[38;5;28mself\u001b[39m\u001b[38;5;241m.\u001b[39mdownsample \u001b[38;5;129;01mis\u001b[39;00m \u001b[38;5;129;01mnot\u001b[39;00m \u001b[38;5;28;01mNone\u001b[39;00m:\n\u001b[0;32m--> 158\u001b[0m     identity \u001b[38;5;241m=\u001b[39m \u001b[38;5;28;43mself\u001b[39;49m\u001b[38;5;241;43m.\u001b[39;49m\u001b[43mdownsample\u001b[49m\u001b[43m(\u001b[49m\u001b[43mx\u001b[49m\u001b[43m)\u001b[49m\n\u001b[1;32m    160\u001b[0m out \u001b[38;5;241m+\u001b[39m\u001b[38;5;241m=\u001b[39m identity\n\u001b[1;32m    161\u001b[0m out \u001b[38;5;241m=\u001b[39m \u001b[38;5;28mself\u001b[39m\u001b[38;5;241m.\u001b[39mrelu(out)\n",
      "File \u001b[0;32m~/anaconda3/envs/fetal/lib/python3.10/site-packages/torch/nn/modules/module.py:1751\u001b[0m, in \u001b[0;36mModule._wrapped_call_impl\u001b[0;34m(self, *args, **kwargs)\u001b[0m\n\u001b[1;32m   1749\u001b[0m     \u001b[38;5;28;01mreturn\u001b[39;00m \u001b[38;5;28mself\u001b[39m\u001b[38;5;241m.\u001b[39m_compiled_call_impl(\u001b[38;5;241m*\u001b[39margs, \u001b[38;5;241m*\u001b[39m\u001b[38;5;241m*\u001b[39mkwargs)  \u001b[38;5;66;03m# type: ignore[misc]\u001b[39;00m\n\u001b[1;32m   1750\u001b[0m \u001b[38;5;28;01melse\u001b[39;00m:\n\u001b[0;32m-> 1751\u001b[0m     \u001b[38;5;28;01mreturn\u001b[39;00m \u001b[38;5;28;43mself\u001b[39;49m\u001b[38;5;241;43m.\u001b[39;49m\u001b[43m_call_impl\u001b[49m\u001b[43m(\u001b[49m\u001b[38;5;241;43m*\u001b[39;49m\u001b[43margs\u001b[49m\u001b[43m,\u001b[49m\u001b[43m \u001b[49m\u001b[38;5;241;43m*\u001b[39;49m\u001b[38;5;241;43m*\u001b[39;49m\u001b[43mkwargs\u001b[49m\u001b[43m)\u001b[49m\n",
      "File \u001b[0;32m~/anaconda3/envs/fetal/lib/python3.10/site-packages/torch/nn/modules/module.py:1762\u001b[0m, in \u001b[0;36mModule._call_impl\u001b[0;34m(self, *args, **kwargs)\u001b[0m\n\u001b[1;32m   1757\u001b[0m \u001b[38;5;66;03m# If we don't have any hooks, we want to skip the rest of the logic in\u001b[39;00m\n\u001b[1;32m   1758\u001b[0m \u001b[38;5;66;03m# this function, and just call forward.\u001b[39;00m\n\u001b[1;32m   1759\u001b[0m \u001b[38;5;28;01mif\u001b[39;00m \u001b[38;5;129;01mnot\u001b[39;00m (\u001b[38;5;28mself\u001b[39m\u001b[38;5;241m.\u001b[39m_backward_hooks \u001b[38;5;129;01mor\u001b[39;00m \u001b[38;5;28mself\u001b[39m\u001b[38;5;241m.\u001b[39m_backward_pre_hooks \u001b[38;5;129;01mor\u001b[39;00m \u001b[38;5;28mself\u001b[39m\u001b[38;5;241m.\u001b[39m_forward_hooks \u001b[38;5;129;01mor\u001b[39;00m \u001b[38;5;28mself\u001b[39m\u001b[38;5;241m.\u001b[39m_forward_pre_hooks\n\u001b[1;32m   1760\u001b[0m         \u001b[38;5;129;01mor\u001b[39;00m _global_backward_pre_hooks \u001b[38;5;129;01mor\u001b[39;00m _global_backward_hooks\n\u001b[1;32m   1761\u001b[0m         \u001b[38;5;129;01mor\u001b[39;00m _global_forward_hooks \u001b[38;5;129;01mor\u001b[39;00m _global_forward_pre_hooks):\n\u001b[0;32m-> 1762\u001b[0m     \u001b[38;5;28;01mreturn\u001b[39;00m \u001b[43mforward_call\u001b[49m\u001b[43m(\u001b[49m\u001b[38;5;241;43m*\u001b[39;49m\u001b[43margs\u001b[49m\u001b[43m,\u001b[49m\u001b[43m \u001b[49m\u001b[38;5;241;43m*\u001b[39;49m\u001b[38;5;241;43m*\u001b[39;49m\u001b[43mkwargs\u001b[49m\u001b[43m)\u001b[49m\n\u001b[1;32m   1764\u001b[0m result \u001b[38;5;241m=\u001b[39m \u001b[38;5;28;01mNone\u001b[39;00m\n\u001b[1;32m   1765\u001b[0m called_always_called_hooks \u001b[38;5;241m=\u001b[39m \u001b[38;5;28mset\u001b[39m()\n",
      "File \u001b[0;32m~/anaconda3/envs/fetal/lib/python3.10/site-packages/torch/nn/modules/container.py:240\u001b[0m, in \u001b[0;36mSequential.forward\u001b[0;34m(self, input)\u001b[0m\n\u001b[1;32m    238\u001b[0m \u001b[38;5;28;01mdef\u001b[39;00m\u001b[38;5;250m \u001b[39m\u001b[38;5;21mforward\u001b[39m(\u001b[38;5;28mself\u001b[39m, \u001b[38;5;28minput\u001b[39m):\n\u001b[1;32m    239\u001b[0m     \u001b[38;5;28;01mfor\u001b[39;00m module \u001b[38;5;129;01min\u001b[39;00m \u001b[38;5;28mself\u001b[39m:\n\u001b[0;32m--> 240\u001b[0m         \u001b[38;5;28minput\u001b[39m \u001b[38;5;241m=\u001b[39m \u001b[43mmodule\u001b[49m\u001b[43m(\u001b[49m\u001b[38;5;28;43minput\u001b[39;49m\u001b[43m)\u001b[49m\n\u001b[1;32m    241\u001b[0m     \u001b[38;5;28;01mreturn\u001b[39;00m \u001b[38;5;28minput\u001b[39m\n",
      "File \u001b[0;32m~/anaconda3/envs/fetal/lib/python3.10/site-packages/torch/nn/modules/module.py:1751\u001b[0m, in \u001b[0;36mModule._wrapped_call_impl\u001b[0;34m(self, *args, **kwargs)\u001b[0m\n\u001b[1;32m   1749\u001b[0m     \u001b[38;5;28;01mreturn\u001b[39;00m \u001b[38;5;28mself\u001b[39m\u001b[38;5;241m.\u001b[39m_compiled_call_impl(\u001b[38;5;241m*\u001b[39margs, \u001b[38;5;241m*\u001b[39m\u001b[38;5;241m*\u001b[39mkwargs)  \u001b[38;5;66;03m# type: ignore[misc]\u001b[39;00m\n\u001b[1;32m   1750\u001b[0m \u001b[38;5;28;01melse\u001b[39;00m:\n\u001b[0;32m-> 1751\u001b[0m     \u001b[38;5;28;01mreturn\u001b[39;00m \u001b[38;5;28;43mself\u001b[39;49m\u001b[38;5;241;43m.\u001b[39;49m\u001b[43m_call_impl\u001b[49m\u001b[43m(\u001b[49m\u001b[38;5;241;43m*\u001b[39;49m\u001b[43margs\u001b[49m\u001b[43m,\u001b[49m\u001b[43m \u001b[49m\u001b[38;5;241;43m*\u001b[39;49m\u001b[38;5;241;43m*\u001b[39;49m\u001b[43mkwargs\u001b[49m\u001b[43m)\u001b[49m\n",
      "File \u001b[0;32m~/anaconda3/envs/fetal/lib/python3.10/site-packages/torch/nn/modules/module.py:1762\u001b[0m, in \u001b[0;36mModule._call_impl\u001b[0;34m(self, *args, **kwargs)\u001b[0m\n\u001b[1;32m   1757\u001b[0m \u001b[38;5;66;03m# If we don't have any hooks, we want to skip the rest of the logic in\u001b[39;00m\n\u001b[1;32m   1758\u001b[0m \u001b[38;5;66;03m# this function, and just call forward.\u001b[39;00m\n\u001b[1;32m   1759\u001b[0m \u001b[38;5;28;01mif\u001b[39;00m \u001b[38;5;129;01mnot\u001b[39;00m (\u001b[38;5;28mself\u001b[39m\u001b[38;5;241m.\u001b[39m_backward_hooks \u001b[38;5;129;01mor\u001b[39;00m \u001b[38;5;28mself\u001b[39m\u001b[38;5;241m.\u001b[39m_backward_pre_hooks \u001b[38;5;129;01mor\u001b[39;00m \u001b[38;5;28mself\u001b[39m\u001b[38;5;241m.\u001b[39m_forward_hooks \u001b[38;5;129;01mor\u001b[39;00m \u001b[38;5;28mself\u001b[39m\u001b[38;5;241m.\u001b[39m_forward_pre_hooks\n\u001b[1;32m   1760\u001b[0m         \u001b[38;5;129;01mor\u001b[39;00m _global_backward_pre_hooks \u001b[38;5;129;01mor\u001b[39;00m _global_backward_hooks\n\u001b[1;32m   1761\u001b[0m         \u001b[38;5;129;01mor\u001b[39;00m _global_forward_hooks \u001b[38;5;129;01mor\u001b[39;00m _global_forward_pre_hooks):\n\u001b[0;32m-> 1762\u001b[0m     \u001b[38;5;28;01mreturn\u001b[39;00m \u001b[43mforward_call\u001b[49m\u001b[43m(\u001b[49m\u001b[38;5;241;43m*\u001b[39;49m\u001b[43margs\u001b[49m\u001b[43m,\u001b[49m\u001b[43m \u001b[49m\u001b[38;5;241;43m*\u001b[39;49m\u001b[38;5;241;43m*\u001b[39;49m\u001b[43mkwargs\u001b[49m\u001b[43m)\u001b[49m\n\u001b[1;32m   1764\u001b[0m result \u001b[38;5;241m=\u001b[39m \u001b[38;5;28;01mNone\u001b[39;00m\n\u001b[1;32m   1765\u001b[0m called_always_called_hooks \u001b[38;5;241m=\u001b[39m \u001b[38;5;28mset\u001b[39m()\n",
      "File \u001b[0;32m~/anaconda3/envs/fetal/lib/python3.10/site-packages/torch/nn/modules/conv.py:554\u001b[0m, in \u001b[0;36mConv2d.forward\u001b[0;34m(self, input)\u001b[0m\n\u001b[1;32m    553\u001b[0m \u001b[38;5;28;01mdef\u001b[39;00m\u001b[38;5;250m \u001b[39m\u001b[38;5;21mforward\u001b[39m(\u001b[38;5;28mself\u001b[39m, \u001b[38;5;28minput\u001b[39m: Tensor) \u001b[38;5;241m-\u001b[39m\u001b[38;5;241m>\u001b[39m Tensor:\n\u001b[0;32m--> 554\u001b[0m     \u001b[38;5;28;01mreturn\u001b[39;00m \u001b[38;5;28;43mself\u001b[39;49m\u001b[38;5;241;43m.\u001b[39;49m\u001b[43m_conv_forward\u001b[49m\u001b[43m(\u001b[49m\u001b[38;5;28;43minput\u001b[39;49m\u001b[43m,\u001b[49m\u001b[43m \u001b[49m\u001b[38;5;28;43mself\u001b[39;49m\u001b[38;5;241;43m.\u001b[39;49m\u001b[43mweight\u001b[49m\u001b[43m,\u001b[49m\u001b[43m \u001b[49m\u001b[38;5;28;43mself\u001b[39;49m\u001b[38;5;241;43m.\u001b[39;49m\u001b[43mbias\u001b[49m\u001b[43m)\u001b[49m\n",
      "File \u001b[0;32m~/anaconda3/envs/fetal/lib/python3.10/site-packages/torch/nn/modules/conv.py:549\u001b[0m, in \u001b[0;36mConv2d._conv_forward\u001b[0;34m(self, input, weight, bias)\u001b[0m\n\u001b[1;32m    537\u001b[0m \u001b[38;5;28;01mif\u001b[39;00m \u001b[38;5;28mself\u001b[39m\u001b[38;5;241m.\u001b[39mpadding_mode \u001b[38;5;241m!=\u001b[39m \u001b[38;5;124m\"\u001b[39m\u001b[38;5;124mzeros\u001b[39m\u001b[38;5;124m\"\u001b[39m:\n\u001b[1;32m    538\u001b[0m     \u001b[38;5;28;01mreturn\u001b[39;00m F\u001b[38;5;241m.\u001b[39mconv2d(\n\u001b[1;32m    539\u001b[0m         F\u001b[38;5;241m.\u001b[39mpad(\n\u001b[1;32m    540\u001b[0m             \u001b[38;5;28minput\u001b[39m, \u001b[38;5;28mself\u001b[39m\u001b[38;5;241m.\u001b[39m_reversed_padding_repeated_twice, mode\u001b[38;5;241m=\u001b[39m\u001b[38;5;28mself\u001b[39m\u001b[38;5;241m.\u001b[39mpadding_mode\n\u001b[0;32m   (...)\u001b[0m\n\u001b[1;32m    547\u001b[0m         \u001b[38;5;28mself\u001b[39m\u001b[38;5;241m.\u001b[39mgroups,\n\u001b[1;32m    548\u001b[0m     )\n\u001b[0;32m--> 549\u001b[0m \u001b[38;5;28;01mreturn\u001b[39;00m \u001b[43mF\u001b[49m\u001b[38;5;241;43m.\u001b[39;49m\u001b[43mconv2d\u001b[49m\u001b[43m(\u001b[49m\n\u001b[1;32m    550\u001b[0m \u001b[43m    \u001b[49m\u001b[38;5;28;43minput\u001b[39;49m\u001b[43m,\u001b[49m\u001b[43m \u001b[49m\u001b[43mweight\u001b[49m\u001b[43m,\u001b[49m\u001b[43m \u001b[49m\u001b[43mbias\u001b[49m\u001b[43m,\u001b[49m\u001b[43m \u001b[49m\u001b[38;5;28;43mself\u001b[39;49m\u001b[38;5;241;43m.\u001b[39;49m\u001b[43mstride\u001b[49m\u001b[43m,\u001b[49m\u001b[43m \u001b[49m\u001b[38;5;28;43mself\u001b[39;49m\u001b[38;5;241;43m.\u001b[39;49m\u001b[43mpadding\u001b[49m\u001b[43m,\u001b[49m\u001b[43m \u001b[49m\u001b[38;5;28;43mself\u001b[39;49m\u001b[38;5;241;43m.\u001b[39;49m\u001b[43mdilation\u001b[49m\u001b[43m,\u001b[49m\u001b[43m \u001b[49m\u001b[38;5;28;43mself\u001b[39;49m\u001b[38;5;241;43m.\u001b[39;49m\u001b[43mgroups\u001b[49m\n\u001b[1;32m    551\u001b[0m \u001b[43m\u001b[49m\u001b[43m)\u001b[49m\n",
      "\u001b[0;31mOutOfMemoryError\u001b[0m: CUDA out of memory. Tried to allocate 236.00 MiB. GPU 0 has a total capacity of 23.52 GiB of which 107.19 MiB is free. Including non-PyTorch memory, this process has 22.08 GiB memory in use. Of the allocated memory 21.52 GiB is allocated by PyTorch, and 125.60 MiB is reserved by PyTorch but unallocated. If reserved but unallocated memory is large try setting PYTORCH_CUDA_ALLOC_CONF=expandable_segments:True to avoid fragmentation.  See documentation for Memory Management  (https://pytorch.org/docs/stable/notes/cuda.html#environment-variables)"
     ]
    }
   ],
   "source": [
    "os.environ['CUDA_LAUNCH_BLOCKING'] = '1'\n",
    "\n",
    "master_seed = 42\n",
    "\n",
    "train_batch = 8\n",
    "test_batch = 8\n",
    "epochs = 5\n",
    "patience = 50\n",
    "name = 'fetal us'\n",
    "classes = ['background', \"third_sylvian\", \"third_midline\", \"third_cavum\", \"third_cerebellum\"]\n",
    "\n",
    "d_path = \"./data\"\n",
    "path_training = './data/training'\n",
    "path_testing = './data/testing'\n",
    "\n",
    "lDict = {\"third_sylvian\" : (1,False), \"third_midline\": (2,False), \"third_cavum\": (3,True), \"third_cerebellum\":(4,True)} \n",
    "\n",
    "training_set = FetalDataset(path_training, lDict)\n",
    "testing_set = FetalDataset(path_testing, lDict)\n",
    "# The experiments are run next. We capture some warnings related to\n",
    "# image loading to clean the debugging console.\n",
    "    \n",
    "# Unet [64, 64, 256, 256, 512, 512]\n",
    "unet_dsc, unet_k_dsc = run_segmentation_experiments(\n",
    "    master_seed, 'unet2d', 'Unet 2D', name,\n",
    "    partial(Unet2D, lr=1e-4, conv_filters=[64, 64, 256, 256, 512, 512]),\n",
    "    training_set, testing_set, \n",
    "    os.path.join(d_path, 'Weights'), os.path.join(d_path, 'Predictions'),\n",
    "    classes, n_inputs = 3, n_classes = 5, epochs=epochs, patience=patience,\n",
    "    train_batch=train_batch, test_batch=test_batch, verbose=1\n",
    ")\n",
    "\n",
    "# FCN ResNet50\n",
    "fcn50_dsc, fcn50_k_dsc = run_segmentation_experiments(\n",
    "    master_seed, 'fcn-resnet50', 'FCN ResNet50', name,\n",
    "    partial(FCN_ResNet50, lr=1e-4, pretrained=True),\n",
    "    training_set, testing_set,\n",
    "    os.path.join(d_path, 'Weights'), os.path.join(d_path, 'Predictions'),\n",
    "    classes, n_inputs = 3, n_classes = 5, epochs=epochs, patience=patience,\n",
    "    train_batch=train_batch, test_batch=test_batch, verbose=1\n",
    ")\n",
    "\n",
    "# FCN ResNet101\n",
    "fcn101_dsc, fcn101_k_dsc = run_segmentation_experiments(\n",
    "    master_seed, 'fcn-resnet101', 'FCN ResNet101', name,\n",
    "    partial(FCN_ResNet101, lr=1e-4, pretrained=True),\n",
    "    training_set, testing_set,\n",
    "    os.path.join(d_path, 'Weights'), os.path.join(d_path, 'Predictions'),\n",
    "    classes, n_inputs = 3, n_classes = 5, epochs=epochs, patience=patience,\n",
    "    train_batch=train_batch, test_batch=test_batch, verbose=1\n",
    ")\n",
    "\n",
    "# DeeplapV3 MobileNet\n",
    "dl3mn_dsc, dl3mn_k_dsc = run_segmentation_experiments(\n",
    "    master_seed, 'deeplab3-mobilenet', 'DeeplabV3 MobileNet', name,\n",
    "    partial(DeeplabV3_MobileNet, lr=1e-4, pretrained=True),\n",
    "    training_set, testing_set,\n",
    "    os.path.join(d_path, 'Weights'), os.path.join(d_path, 'Predictions'),\n",
    "    classes, n_inputs = 3, n_classes = 5, epochs=epochs, patience=patience,\n",
    "    train_batch=train_batch, test_batch=test_batch, verbose=1\n",
    ")\n",
    "\n",
    "# DeeplapV3 ResNet50\n",
    "dl3rn_dsc, dl3rn_k_dsc = run_segmentation_experiments(\n",
    "    master_seed, 'deeplab3-resnet50', 'DeeplabV3 ResNet50', name,\n",
    "    partial(DeeplabV3_ResNet50, lr=1e-4, pretrained=True),\n",
    "    training_set, testing_set,\n",
    "    os.path.join(d_path, 'Weights'), os.path.join(d_path, 'Predictions'),\n",
    "    classes, n_inputs = 3, n_classes = 5, epochs=epochs, patience=patience,\n",
    "    train_batch=train_batch, test_batch=test_batch, verbose=1\n",
    ")\n",
    "\n",
    "# L-RASPP ResNet50\n",
    "lraspp_dsc, lraspp_k_dsc = run_segmentation_experiments(\n",
    "    master_seed, 'lraspp-mobilenet', 'Lite R-ASPP MobileNet', name,\n",
    "    partial(LRASPP_MobileNet, lr=1e-4, pretrained=True),\n",
    "    training_set, testing_set,\n",
    "    os.path.join(d_path, 'Weights'), os.path.join(d_path, 'Predictions'),\n",
    "    classes, n_inputs = 3, n_classes = 5, epochs=epochs, patience=patience,\n",
    "    train_batch=train_batch, test_batch=test_batch, verbose=1\n",
    ")"
   ]
  },
  {
   "cell_type": "code",
   "execution_count": null,
   "id": "f4e5e970-c099-4da2-a6b3-42d12c586ce2",
   "metadata": {},
   "outputs": [],
   "source": []
  }
 ],
 "metadata": {
  "kernelspec": {
   "display_name": "Python 3 (ipykernel)",
   "language": "python",
   "name": "python3"
  },
  "language_info": {
   "codemirror_mode": {
    "name": "ipython",
    "version": 3
   },
   "file_extension": ".py",
   "mimetype": "text/x-python",
   "name": "python",
   "nbconvert_exporter": "python",
   "pygments_lexer": "ipython3",
   "version": "3.10.18"
  }
 },
 "nbformat": 4,
 "nbformat_minor": 5
}
